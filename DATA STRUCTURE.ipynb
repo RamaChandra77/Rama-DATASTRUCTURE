{
 "cells": [
  {
   "cell_type": "markdown",
   "id": "007fc4b0-eddd-417f-8922-3227026121d6",
   "metadata": {},
   "source": [
    "### Data Structure"
   ]
  },
  {
   "cell_type": "markdown",
   "id": "30fb5531-bbf3-40d9-bdcf-0fb31f059e79",
   "metadata": {},
   "source": [
    "d=[]\n",
    "type(d)"
   ]
  },
  {
   "cell_type": "code",
   "execution_count": 3,
   "id": "92f5b34d-957f-4ee2-bfd5-e0bcb9169521",
   "metadata": {},
   "outputs": [
    {
     "data": {
      "text/plain": [
       "list"
      ]
     },
     "execution_count": 3,
     "metadata": {},
     "output_type": "execute_result"
    }
   ],
   "source": [
    "e=list()\n",
    "type(e)"
   ]
  },
  {
   "cell_type": "code",
   "execution_count": 5,
   "id": "da5884b8-b366-469d-8178-d70591101171",
   "metadata": {},
   "outputs": [
    {
     "data": {
      "text/plain": [
       "6"
      ]
     },
     "execution_count": 5,
     "metadata": {},
     "output_type": "execute_result"
    }
   ],
   "source": [
    "d=[1,2,3,[5,8,9],10,12]\n",
    "len(d)"
   ]
  },
  {
   "cell_type": "code",
   "execution_count": 6,
   "id": "664d3c52-3718-46c9-9bd7-d4ff5d75d696",
   "metadata": {},
   "outputs": [
    {
     "data": {
      "text/plain": [
       "12"
      ]
     },
     "execution_count": 6,
     "metadata": {},
     "output_type": "execute_result"
    }
   ],
   "source": [
    "d[5]"
   ]
  },
  {
   "cell_type": "code",
   "execution_count": 7,
   "id": "ec7b5430-5c1f-4e8b-a6bf-37180f80e287",
   "metadata": {},
   "outputs": [
    {
     "data": {
      "text/plain": [
       "[5, 8, 9]"
      ]
     },
     "execution_count": 7,
     "metadata": {},
     "output_type": "execute_result"
    }
   ],
   "source": [
    "d[3]"
   ]
  },
  {
   "cell_type": "code",
   "execution_count": 10,
   "id": "1dbc72cf-82e5-4ef8-99e2-67056e57d7a1",
   "metadata": {},
   "outputs": [
    {
     "data": {
      "text/plain": [
       "8"
      ]
     },
     "execution_count": 10,
     "metadata": {},
     "output_type": "execute_result"
    }
   ],
   "source": [
    "d[3][1]"
   ]
  },
  {
   "cell_type": "code",
   "execution_count": 11,
   "id": "02fd4f95-267a-4d5b-aacc-2cedcbe39eb6",
   "metadata": {},
   "outputs": [
    {
     "data": {
      "text/plain": [
       "[1, 2, [3, 4], [5, [100, 200, ['rama'], 23, 11], 1, 7]]"
      ]
     },
     "execution_count": 11,
     "metadata": {},
     "output_type": "execute_result"
    }
   ],
   "source": [
    "l1=[1,2,[3,4],[5,[100,200,['rama'],23,11],1,7]]\n",
    "l1"
   ]
  },
  {
   "cell_type": "code",
   "execution_count": 12,
   "id": "36c4d05e-d215-4d91-b81e-51572ba507cc",
   "metadata": {},
   "outputs": [
    {
     "data": {
      "text/plain": [
       "1"
      ]
     },
     "execution_count": 12,
     "metadata": {},
     "output_type": "execute_result"
    }
   ],
   "source": [
    "l1[0]"
   ]
  },
  {
   "cell_type": "code",
   "execution_count": 13,
   "id": "ed4c2800-903e-4e9f-adfc-7c55a1347687",
   "metadata": {},
   "outputs": [
    {
     "data": {
      "text/plain": [
       "2"
      ]
     },
     "execution_count": 13,
     "metadata": {},
     "output_type": "execute_result"
    }
   ],
   "source": [
    "l1[1]"
   ]
  },
  {
   "cell_type": "code",
   "execution_count": 14,
   "id": "99d31f96-abde-4115-a8a5-64c267aa5bdf",
   "metadata": {},
   "outputs": [
    {
     "data": {
      "text/plain": [
       "[3, 4]"
      ]
     },
     "execution_count": 14,
     "metadata": {},
     "output_type": "execute_result"
    }
   ],
   "source": [
    "l1[2]"
   ]
  },
  {
   "cell_type": "code",
   "execution_count": 15,
   "id": "6a9eb190-a300-4f90-841c-ec9237f990ac",
   "metadata": {},
   "outputs": [
    {
     "data": {
      "text/plain": [
       "[5, [100, 200, ['rama'], 23, 11], 1, 7]"
      ]
     },
     "execution_count": 15,
     "metadata": {},
     "output_type": "execute_result"
    }
   ],
   "source": [
    "l1[3]"
   ]
  },
  {
   "cell_type": "code",
   "execution_count": 16,
   "id": "451a89d9-74ab-48e5-95f5-f588b9397eef",
   "metadata": {},
   "outputs": [
    {
     "data": {
      "text/plain": [
       "['rama']"
      ]
     },
     "execution_count": 16,
     "metadata": {},
     "output_type": "execute_result"
    }
   ],
   "source": [
    "l1[3][1][2]"
   ]
  },
  {
   "cell_type": "code",
   "execution_count": 17,
   "id": "d381ddb2-7b10-40a8-a559-89211d5e3e1d",
   "metadata": {},
   "outputs": [
    {
     "data": {
      "text/plain": [
       "'rama'"
      ]
     },
     "execution_count": 17,
     "metadata": {},
     "output_type": "execute_result"
    }
   ],
   "source": [
    "l1[3][1][2][0]"
   ]
  },
  {
   "cell_type": "code",
   "execution_count": 18,
   "id": "64605f73-2aad-4f79-a514-0780173b51bc",
   "metadata": {},
   "outputs": [
    {
     "data": {
      "text/plain": [
       "'r'"
      ]
     },
     "execution_count": 18,
     "metadata": {},
     "output_type": "execute_result"
    }
   ],
   "source": [
    "l1[3][1][2][0][0]"
   ]
  },
  {
   "cell_type": "code",
   "execution_count": 20,
   "id": "e1011b6e-1618-4ee3-ab73-eab4a64cd0a4",
   "metadata": {},
   "outputs": [],
   "source": [
    "l1[3][1][2][0]=['subrat']"
   ]
  },
  {
   "cell_type": "code",
   "execution_count": 21,
   "id": "8535273a-77e1-4237-889e-ee2c8b2f11f1",
   "metadata": {},
   "outputs": [
    {
     "name": "stdout",
     "output_type": "stream",
     "text": [
      "['subrat']\n"
     ]
    }
   ],
   "source": [
    "print(l1[3][1][2][0])"
   ]
  },
  {
   "cell_type": "code",
   "execution_count": 23,
   "id": "d4498374-88f2-4b8b-85da-e020a6d21bd7",
   "metadata": {},
   "outputs": [
    {
     "name": "stdout",
     "output_type": "stream",
     "text": [
      "[5, [100, 200, [['subrat']], 23, 11], 1, 7]\n"
     ]
    }
   ],
   "source": [
    "print(l1[3])"
   ]
  },
  {
   "cell_type": "code",
   "execution_count": 24,
   "id": "126237eb-4ee9-42a6-9c8b-9a7d9d19bafe",
   "metadata": {},
   "outputs": [
    {
     "name": "stdout",
     "output_type": "stream",
     "text": [
      "[1, 2, [3, 4], [5, [100, 200, [['subrat']], 23, 11], 1, 7]]\n"
     ]
    }
   ],
   "source": [
    "print(l1)"
   ]
  },
  {
   "cell_type": "code",
   "execution_count": 70,
   "id": "a6981572-dd6d-4df5-9f89-0354215236dd",
   "metadata": {},
   "outputs": [
    {
     "name": "stdout",
     "output_type": "stream",
     "text": [
      "[10, 30, 10, 65, 10, 10, 86, 10, 70]\n"
     ]
    }
   ],
   "source": [
    "l2=[10,20,30,10,65,10,10,86,10,70]\n",
    "# l3=print(l2[0],l2[3],l2[5],l2[6],l2[8])\n",
    "# l3=print(l2[1]).remove(l3)\n",
    "l2.remove(20)\n",
    "print(l2)"
   ]
  },
  {
   "cell_type": "code",
   "execution_count": 40,
   "id": "64748562-791b-43a3-ace9-683e1c49ace1",
   "metadata": {},
   "outputs": [
    {
     "data": {
      "text/plain": [
       "'three'"
      ]
     },
     "execution_count": 40,
     "metadata": {},
     "output_type": "execute_result"
    }
   ],
   "source": [
    "l3=['one','two','three','four','five']\n",
    "l3.pop(2)"
   ]
  },
  {
   "cell_type": "code",
   "execution_count": 44,
   "id": "8742e88f-fe7e-4b86-b232-a07d30a4f971",
   "metadata": {},
   "outputs": [
    {
     "ename": "SyntaxError",
     "evalue": "cannot delete literal (2031868858.py, line 2)",
     "output_type": "error",
     "traceback": [
      "\u001b[1;36m  Cell \u001b[1;32mIn[44], line 2\u001b[1;36m\u001b[0m\n\u001b[1;33m    del l3[0],[1]\u001b[0m\n\u001b[1;37m               ^\u001b[0m\n\u001b[1;31mSyntaxError\u001b[0m\u001b[1;31m:\u001b[0m cannot delete literal\n"
     ]
    }
   ],
   "source": [
    "l3=['one','two','three','four','five']\n",
    "del l3[0]\n",
    "print(l3)"
   ]
  },
  {
   "cell_type": "markdown",
   "id": "3ec3c972-987a-4718-a154-32680d1fd6e7",
   "metadata": {},
   "source": [
    "### List"
   ]
  },
  {
   "cell_type": "markdown",
   "id": "bc9e4325-9230-4ff8-b1f9-722b4b0d3ffd",
   "metadata": {},
   "source": [
    "##### .List is an ordered sequence off"
   ]
  },
  {
   "cell_type": "markdown",
   "id": "a3fc36ea-3b2d-4bd3-b3b0-1a8e44f38b9b",
   "metadata": {},
   "source": [
    "#### .It is one of the most used datatype in Python and is very flexible."
   ]
  },
  {
   "cell_type": "markdown",
   "id": "529c8701-8e42-4262-8791-5c7b69a00e6b",
   "metadata": {},
   "source": [
    "#### . All the items in a list do to be of the same type ( heterogenous)."
   ]
  },
  {
   "cell_type": "markdown",
   "id": "c674ff80-d18e-4038-bc82-e87bc062a302",
   "metadata": {},
   "source": [
    "#### .A list 15 a data structure in Python that is a mutable, or chargeable, ordered sequence of elements."
   ]
  },
  {
   "cell_type": "markdown",
   "id": "b9e63e7d-6c8e-46de-b5b6-118cd0fc6530",
   "metadata": {},
   "source": [
    "#### .Each element or value that is inside of a list is called an item."
   ]
  },
  {
   "cell_type": "markdown",
   "id": "81a3e594-3603-4953-8f3a-680d8d5da7fa",
   "metadata": {},
   "source": [
    "#### .Declaring a list separated by commas are enclosed within brackets []. Initializing ists. You can initialize a list Python"
   ]
  },
  {
   "cell_type": "markdown",
   "id": "1bd60bf9-cfce-46a2-a968-56e7823552e7",
   "metadata": {},
   "source": [
    "#### .The list() function also takes an with content of any sort using the same square bracket notation. iterable as a single argument and returns a shallow copy of that iterable as a new list"
   ]
  },
  {
   "cell_type": "markdown",
   "id": "31714d45-9007-415a-88ac-8de363944b88",
   "metadata": {},
   "source": [
    "#### .A list represents an ordered, mutable collection of objects. You can mix and match any type of object in a list, add to it and remove from it at will,"
   ]
  },
  {
   "cell_type": "markdown",
   "id": "80504c97-268c-488d-b8d4-4bf97c2b884d",
   "metadata": {},
   "source": [
    "#### .Creating Empty Lists. To create an empty list, you can use empty square brackets or use the list() function I with no arguments"
   ]
  },
  {
   "cell_type": "markdown",
   "id": "2852feac-dbd0-430a-beb5-51f9532b68d6",
   "metadata": {},
   "source": [
    "### 1:EmptyList"
   ]
  },
  {
   "cell_type": "code",
   "execution_count": 9,
   "id": "957cc6ff-955a-47b1-95a9-a603ee175d9c",
   "metadata": {},
   "outputs": [
    {
     "data": {
      "text/plain": [
       "[]"
      ]
     },
     "execution_count": 9,
     "metadata": {},
     "output_type": "execute_result"
    }
   ],
   "source": [
    "l=[]\n",
    "l"
   ]
  },
  {
   "cell_type": "code",
   "execution_count": 11,
   "id": "722ec325-136a-4423-af8f-4acd68f7c870",
   "metadata": {},
   "outputs": [
    {
     "data": {
      "text/plain": [
       "[]"
      ]
     },
     "execution_count": 11,
     "metadata": {},
     "output_type": "execute_result"
    }
   ],
   "source": [
    "l=list()\n",
    "l"
   ]
  },
  {
   "cell_type": "markdown",
   "id": "373c5e7b-a00a-4690-836b-314fd0555041",
   "metadata": {},
   "source": [
    "### 2:List Creation"
   ]
  },
  {
   "cell_type": "code",
   "execution_count": 12,
   "id": "4d89e785-264a-453e-807b-7c8002458da6",
   "metadata": {},
   "outputs": [
    {
     "data": {
      "text/plain": [
       "[1, 2, 3, 4, 5, 6]"
      ]
     },
     "execution_count": 12,
     "metadata": {},
     "output_type": "execute_result"
    }
   ],
   "source": [
    "l=[1,2,3,4,5,6,]\n",
    "l"
   ]
  },
  {
   "cell_type": "code",
   "execution_count": 13,
   "id": "1461ba88-e3fb-4792-8faf-62bc0794447e",
   "metadata": {},
   "outputs": [
    {
     "data": {
      "text/plain": [
       "list"
      ]
     },
     "execution_count": 13,
     "metadata": {},
     "output_type": "execute_result"
    }
   ],
   "source": [
    "type(l)"
   ]
  },
  {
   "cell_type": "markdown",
   "id": "3f1e2a41-b274-479e-be85-2af10df9ce23",
   "metadata": {},
   "source": [
    "#### Type casting"
   ]
  },
  {
   "cell_type": "code",
   "execution_count": 21,
   "id": "79e6e93b-9c93-497a-9861-522d7147b6ad",
   "metadata": {},
   "outputs": [
    {
     "name": "stdout",
     "output_type": "stream",
     "text": [
      "[6, 3, 9, 2, 21, 1, 7, 5, 8]\n",
      "<class 'list'>\n"
     ]
    }
   ],
   "source": [
    "li3=[6,3,9,2,21,1,7,5,8]\n",
    "print(li3)\n",
    "print(type(li3))"
   ]
  },
  {
   "cell_type": "code",
   "execution_count": 23,
   "id": "42f1dbb5-f5ac-4e05-aacc-667c140eb607",
   "metadata": {},
   "outputs": [
    {
     "name": "stdout",
     "output_type": "stream",
     "text": [
      "{1, 2, 3, 5, 6, 7, 8, 9, 21}\n",
      "<class 'set'>\n"
     ]
    }
   ],
   "source": [
    "li4=set(li3)\n",
    "print(li4)\n",
    "print(type(li4))"
   ]
  },
  {
   "cell_type": "code",
   "execution_count": 24,
   "id": "fa0cb3ba-4603-4f59-ad56-72ac0b0fdc97",
   "metadata": {},
   "outputs": [
    {
     "name": "stdout",
     "output_type": "stream",
     "text": [
      "[1, 2, 3, 5, 6, 7, 8, 9, 21]\n",
      "<class 'list'>\n"
     ]
    }
   ],
   "source": [
    "li5=list(li4)\n",
    "print(li5)\n",
    "print(type(li5))"
   ]
  },
  {
   "cell_type": "code",
   "execution_count": 32,
   "id": "4383ba97-5dbc-408e-beb3-619b1cf84f82",
   "metadata": {},
   "outputs": [
    {
     "name": "stdout",
     "output_type": "stream",
     "text": [
      "(6, 3, 9, 2, 21, 1, 7, 5, 8)\n",
      "<class 'tuple'>\n"
     ]
    }
   ],
   "source": [
    "t=(6,3,9,2,21,1,7,5,8)\n",
    "print(t)\n",
    "print(type(t))"
   ]
  },
  {
   "cell_type": "code",
   "execution_count": 33,
   "id": "7132fa22-ef1f-465f-afc1-f355cd989907",
   "metadata": {},
   "outputs": [
    {
     "name": "stdout",
     "output_type": "stream",
     "text": [
      "{1, 2, 3, 5, 6, 7, 8, 9, 21}\n",
      "<class 'set'>\n"
     ]
    }
   ],
   "source": [
    "t1=set(t)\n",
    "print(t1)\n",
    "print(type(t1))"
   ]
  },
  {
   "cell_type": "code",
   "execution_count": 34,
   "id": "983fe2ef-e058-44b3-b255-8cfd2e30532a",
   "metadata": {},
   "outputs": [
    {
     "name": "stdout",
     "output_type": "stream",
     "text": [
      "(1, 2, 3, 5, 6, 7, 8, 9, 21)\n",
      "<class 'tuple'>\n"
     ]
    }
   ],
   "source": [
    "t2=tuple(t1)\n",
    "print(t2)\n",
    "print(type(t2))"
   ]
  },
  {
   "cell_type": "markdown",
   "id": "a0c3aba6-df27-493f-9c2d-bd685b379a72",
   "metadata": {},
   "source": [
    "#### Shallow Copy or Deep Copy"
   ]
  },
  {
   "cell_type": "code",
   "execution_count": 44,
   "id": "24088004-d21a-4029-a74d-5bfeb168a739",
   "metadata": {},
   "outputs": [
    {
     "name": "stdout",
     "output_type": "stream",
     "text": [
      "<class 'list'>\n",
      "[3, 5, 8, 2, 9, 5, 71, 7]\n",
      "[3, 5, 8, 2, 9, 5, 71, 7]\n",
      "[3, 5, 8, 2, 9, 5, 71, 7]\n"
     ]
    }
   ],
   "source": [
    "a=[3,5,8,2,9,5,71,7]\n",
    "print(type(a))\n",
    "print(a)\n",
    "b=a\n",
    "print(b)\n",
    "x=b.copy()\n",
    "print(x)"
   ]
  },
  {
   "cell_type": "code",
   "execution_count": 47,
   "id": "c8c1a2d8-f338-4127-ad7e-ea8549f13ae2",
   "metadata": {},
   "outputs": [
    {
     "name": "stdout",
     "output_type": "stream",
     "text": [
      "<class 'tuple'>\n",
      "(6, 3, 9, 2, 21, 1, 7, 5, 8)\n",
      "(6, 3, 9, 2, 21, 1, 7, 5, 8)\n"
     ]
    }
   ],
   "source": [
    "c=(6,3,9,2,21,1,7,5,8)\n",
    "print(type(c))\n",
    "print(c)\n",
    "d=c\n",
    "print(d)"
   ]
  },
  {
   "cell_type": "markdown",
   "id": "04d85611-6d36-4005-9983-8297a48f2fc7",
   "metadata": {},
   "source": [
    "#### pup function"
   ]
  },
  {
   "cell_type": "code",
   "execution_count": 7,
   "id": "61163b6c-dca0-4e86-bf74-09660fb9b633",
   "metadata": {},
   "outputs": [
    {
     "name": "stdout",
     "output_type": "stream",
     "text": [
      "[3, 7, 2, 9, 4]\n"
     ]
    }
   ],
   "source": [
    "list=[3,7,2,9,4,1]\n",
    "list.pop()\n",
    "print(list)"
   ]
  },
  {
   "cell_type": "code",
   "execution_count": 8,
   "id": "eac42e39-9937-4c87-8480-7e976e26b5dc",
   "metadata": {},
   "outputs": [
    {
     "name": "stdout",
     "output_type": "stream",
     "text": [
      "['ten', 'twenty', 'fourty', 'fifty']\n"
     ]
    }
   ],
   "source": [
    "# or we can use pop() method\n",
    "list1=['ten','twenty','thirty','fourty','fifty']\n",
    "list1.pop(2)\n",
    "print(list1)"
   ]
  },
  {
   "cell_type": "markdown",
   "id": "f761f054-3925-4f29-b3b4-4d87e01d91ca",
   "metadata": {},
   "source": [
    "#### Delete"
   ]
  },
  {
   "cell_type": "code",
   "execution_count": 9,
   "id": "3ab2d5a2-51f1-49ae-8a4c-6276a7e86036",
   "metadata": {},
   "outputs": [
    {
     "name": "stdout",
     "output_type": "stream",
     "text": [
      "['ten', 'twenty', 'thirty', 'fifty']\n"
     ]
    }
   ],
   "source": [
    "#del to remove item based an index position\n",
    "list2=['ten','twenty','thirty','fourty','fifty']\n",
    "del list2[3]\n",
    "print(list2)"
   ]
  },
  {
   "cell_type": "code",
   "execution_count": 10,
   "id": "564127a9-7b7b-4224-8481-eb4822398cb5",
   "metadata": {},
   "outputs": [
    {
     "name": "stdout",
     "output_type": "stream",
     "text": [
      "[21, 1, 7, 5, 8]\n"
     ]
    }
   ],
   "source": [
    "lt1=[6,3,9,2,21,1,7,5,8]\n",
    "del lt1[0:4]\n",
    "print(lt1)"
   ]
  },
  {
   "cell_type": "markdown",
   "id": "74aef861-e975-4f93-8516-cfa9d9defb1b",
   "metadata": {},
   "source": [
    "#### Reverse"
   ]
  },
  {
   "cell_type": "code",
   "execution_count": 11,
   "id": "ce26b810-1ded-499f-a7ea-f8cfcf95aa34",
   "metadata": {},
   "outputs": [
    {
     "name": "stdout",
     "output_type": "stream",
     "text": [
      "['fifty', 'fourty', 'thirty', 'twenty', 'ten']\n"
     ]
    }
   ],
   "source": [
    "#Reverse is reverse the entire list\n",
    "lt2=['ten','twenty','thirty','fourty','fifty']\n",
    "lt2.reverse()\n",
    "print(lt2)"
   ]
  },
  {
   "cell_type": "markdown",
   "id": "0b62eb1d-c270-4834-9944-ee0409ada516",
   "metadata": {},
   "source": [
    "### Sorting"
   ]
  },
  {
   "cell_type": "markdown",
   "id": "f3ba460a-a686-4c02-aa6c-49d6c779ebf5",
   "metadata": {},
   "source": [
    "###### .The easiest way to sort a list is with the sorted(list) function.\n",
    "###### .The takes a list and returns a new list with those elements in sorted order.\n",
    "###### .The original list is not changed.\n",
    "###### .The sorted() optional arguments reverse=True , e.g.sorted(list,reverse=true),makrs it sort backwords."
   ]
  },
  {
   "cell_type": "code",
   "execution_count": 20,
   "id": "9349eba1-d85b-4247-b682-1cd1e50c8c94",
   "metadata": {},
   "outputs": [
    {
     "data": {
      "text/plain": [
       "[1, 2, 3, 4, 6, 7, 8]"
      ]
     },
     "execution_count": 20,
     "metadata": {},
     "output_type": "execute_result"
    }
   ],
   "source": [
    "No=[7,3,1,8,4,6,2]\n",
    "sorted(No)"
   ]
  },
  {
   "cell_type": "code",
   "execution_count": 19,
   "id": "eca7a6ef-5f78-4b5c-a84e-12d03b66f054",
   "metadata": {},
   "outputs": [
    {
     "data": {
      "text/plain": [
       "[1, 2, 3, 4, 6, 7, 8]"
      ]
     },
     "execution_count": 19,
     "metadata": {},
     "output_type": "execute_result"
    }
   ],
   "source": [
    "sorted(No, reverse=true)"
   ]
  },
  {
   "cell_type": "code",
   "execution_count": 22,
   "id": "9bfe80f9-b7a1-4776-8225-f4ef0595742d",
   "metadata": {},
   "outputs": [
    {
     "name": "stdout",
     "output_type": "stream",
     "text": [
      "[1, 2, 3, 4, 6, 7, 8]\n"
     ]
    }
   ],
   "source": [
    "lt3=[7,3,1,8,4,6,2]\n",
    "lt3.sort()\n",
    "print(lt3)"
   ]
  },
  {
   "cell_type": "code",
   "execution_count": 23,
   "id": "f28fac05-0e25-4b64-afdb-deb22c28bf0b",
   "metadata": {},
   "outputs": [
    {
     "ename": "TypeError",
     "evalue": "'<' not supported between instances of 'str' and 'int'",
     "output_type": "error",
     "traceback": [
      "\u001b[1;31m---------------------------------------------------------------------------\u001b[0m",
      "\u001b[1;31mTypeError\u001b[0m                                 Traceback (most recent call last)",
      "Cell \u001b[1;32mIn[23], line 3\u001b[0m\n\u001b[0;32m      1\u001b[0m \u001b[38;5;66;03m#Sort is aplicable for either only alphabat or only numeric values only\u001b[39;00m\n\u001b[0;32m      2\u001b[0m li4\u001b[38;5;241m=\u001b[39m[\u001b[38;5;241m3\u001b[39m,\u001b[38;5;241m5\u001b[39m,\u001b[38;5;241m2\u001b[39m,\u001b[38;5;124m'\u001b[39m\u001b[38;5;124md\u001b[39m\u001b[38;5;124m'\u001b[39m,\u001b[38;5;241m9\u001b[39m,\u001b[38;5;124m'\u001b[39m\u001b[38;5;124ms\u001b[39m\u001b[38;5;124m'\u001b[39m]\n\u001b[1;32m----> 3\u001b[0m \u001b[38;5;28mprint\u001b[39m(li4\u001b[38;5;241m.\u001b[39msort())\n",
      "\u001b[1;31mTypeError\u001b[0m: '<' not supported between instances of 'str' and 'int'"
     ]
    }
   ],
   "source": [
    "#Sort is aplicable for either only alphabat or only numeric values only\n",
    "li4=[3,5,2,'d',9,'s']\n",
    "print(li4.sort())"
   ]
  },
  {
   "cell_type": "markdown",
   "id": "6ca85bba-f38f-4844-84f1-082d3068f8ac",
   "metadata": {},
   "source": [
    "#### Count"
   ]
  },
  {
   "cell_type": "code",
   "execution_count": 26,
   "id": "adb9f4f2-cbc8-47d4-bbb1-e38b5a57ff7f",
   "metadata": {},
   "outputs": [
    {
     "name": "stdout",
     "output_type": "stream",
     "text": [
      "3\n",
      "5\n"
     ]
    }
   ],
   "source": [
    "No1=[3,57,2,9,3,2,3,9,2,52,3,1,3]\n",
    "print(No1.count(2))           #frequency of 2 in a list\n",
    "print(No1.count(3))           #frequency of 3 in a list"
   ]
  },
  {
   "cell_type": "markdown",
   "id": "3f9caaae-61e0-443b-942c-56f93166d8f3",
   "metadata": {},
   "source": [
    "#### Index"
   ]
  },
  {
   "cell_type": "code",
   "execution_count": 27,
   "id": "e22b3434-f9ec-4f4d-bc71-386a61b0afe2",
   "metadata": {},
   "outputs": [
    {
     "data": {
      "text/plain": [
       "0"
      ]
     },
     "execution_count": 27,
     "metadata": {},
     "output_type": "execute_result"
    }
   ],
   "source": [
    "#index():returns the index of first occuerence. Start and end index are not necessary parameters\n",
    "lt1=[3,7,2,9,4,1]\n",
    "lt1.index(3)"
   ]
  },
  {
   "cell_type": "code",
   "execution_count": 28,
   "id": "934ed882-99ef-42dd-87c7-9d64c2afb3df",
   "metadata": {},
   "outputs": [
    {
     "data": {
      "text/plain": [
       "1"
      ]
     },
     "execution_count": 28,
     "metadata": {},
     "output_type": "execute_result"
    }
   ],
   "source": [
    "## Min\n",
    "min(lt1)"
   ]
  },
  {
   "cell_type": "code",
   "execution_count": 29,
   "id": "e2ecff5c-c082-4915-95ff-944b750a00a0",
   "metadata": {},
   "outputs": [
    {
     "data": {
      "text/plain": [
       "9"
      ]
     },
     "execution_count": 29,
     "metadata": {},
     "output_type": "execute_result"
    }
   ],
   "source": [
    "## max\n",
    "max(lt1)"
   ]
  },
  {
   "cell_type": "code",
   "execution_count": 30,
   "id": "b39086a6-75a5-4b8e-bc6e-b731042742fe",
   "metadata": {},
   "outputs": [
    {
     "data": {
      "text/plain": [
       "26"
      ]
     },
     "execution_count": 30,
     "metadata": {},
     "output_type": "execute_result"
    }
   ],
   "source": [
    "lt1=[3,7,2,9,4,1]\n",
    "sum(lt1)"
   ]
  },
  {
   "cell_type": "markdown",
   "id": "2976f83b-0522-4417-b52d-51298f7c9a55",
   "metadata": {},
   "source": [
    "#### Dictionaries"
   ]
  },
  {
   "cell_type": "code",
   "execution_count": 15,
   "id": "1f895f35-8fcf-4a3d-8761-245f7f96e432",
   "metadata": {},
   "outputs": [
    {
     "name": "stdout",
     "output_type": "stream",
     "text": [
      "<class 'dict'>\n"
     ]
    }
   ],
   "source": [
    "d={10:'rama',11:'prabhas',12:'subham',13:'biswo'}\n",
    "print(type(d))"
   ]
  },
  {
   "cell_type": "code",
   "execution_count": 16,
   "id": "7ebfcf98-5b14-4081-b213-dcd3128c8fb0",
   "metadata": {},
   "outputs": [
    {
     "data": {
      "text/plain": [
       "dict"
      ]
     },
     "execution_count": 16,
     "metadata": {},
     "output_type": "execute_result"
    }
   ],
   "source": [
    "f={}\n",
    "type(f)"
   ]
  },
  {
   "cell_type": "code",
   "execution_count": 17,
   "id": "9065d4d6-9d43-4fc6-a7d1-859189fd6de9",
   "metadata": {},
   "outputs": [
    {
     "data": {
      "text/plain": [
       "dict_keys([10, 11, 12, 13])"
      ]
     },
     "execution_count": 17,
     "metadata": {},
     "output_type": "execute_result"
    }
   ],
   "source": [
    "d.keys()"
   ]
  },
  {
   "cell_type": "code",
   "execution_count": 18,
   "id": "de32813c-2938-403c-97a5-546376c1ab7e",
   "metadata": {},
   "outputs": [
    {
     "ename": "AttributeError",
     "evalue": "'dict' object has no attribute 'itmes'",
     "output_type": "error",
     "traceback": [
      "\u001b[1;31m---------------------------------------------------------------------------\u001b[0m",
      "\u001b[1;31mAttributeError\u001b[0m                            Traceback (most recent call last)",
      "Cell \u001b[1;32mIn[18], line 1\u001b[0m\n\u001b[1;32m----> 1\u001b[0m d\u001b[38;5;241m.\u001b[39mitmes()\n",
      "\u001b[1;31mAttributeError\u001b[0m: 'dict' object has no attribute 'itmes'"
     ]
    }
   ],
   "source": [
    "d.itmes()"
   ]
  },
  {
   "cell_type": "code",
   "execution_count": 19,
   "id": "1dbc0cac-1487-4149-9b9b-686d6fe0099d",
   "metadata": {},
   "outputs": [
    {
     "data": {
      "text/plain": [
       "dict_values(['rama', 'prabhas', 'subham', 'biswo'])"
      ]
     },
     "execution_count": 19,
     "metadata": {},
     "output_type": "execute_result"
    }
   ],
   "source": [
    "d.values()"
   ]
  },
  {
   "cell_type": "code",
   "execution_count": 14,
   "id": "65eeb6db-dcde-43e4-a36d-00cdddbb1e13",
   "metadata": {},
   "outputs": [
    {
     "ename": "NameError",
     "evalue": "name 'd' is not defined",
     "output_type": "error",
     "traceback": [
      "\u001b[1;31m---------------------------------------------------------------------------\u001b[0m",
      "\u001b[1;31mNameError\u001b[0m                                 Traceback (most recent call last)",
      "Cell \u001b[1;32mIn[14], line 1\u001b[0m\n\u001b[1;32m----> 1\u001b[0m d\u001b[38;5;241m.\u001b[39mitems()\n",
      "\u001b[1;31mNameError\u001b[0m: name 'd' is not defined"
     ]
    }
   ],
   "source": [
    "d.items()"
   ]
  },
  {
   "cell_type": "code",
   "execution_count": 20,
   "id": "6b506ca6-3336-485a-bc8b-0f4420ab2940",
   "metadata": {},
   "outputs": [
    {
     "data": {
      "text/plain": [
       "{10: 'rama', 11: 'prabhas', 12: 'subham', 13: 'biswo'}"
      ]
     },
     "execution_count": 20,
     "metadata": {},
     "output_type": "execute_result"
    }
   ],
   "source": [
    "d"
   ]
  },
  {
   "cell_type": "markdown",
   "id": "08151ca0-3665-4200-bfa4-63cbea4f6659",
   "metadata": {},
   "source": [
    "### Nested Dictionary "
   ]
  },
  {
   "cell_type": "code",
   "execution_count": 21,
   "id": "836336f7-dd5a-4a02-8a93-e6e4c182ef8b",
   "metadata": {},
   "outputs": [],
   "source": [
    "car1={'Mercedes':1958}\n",
    "car2={'Audi':1974}\n",
    "car3={'Ambassador':1863}\n",
    "\n",
    "car_type={'Car1':car1,'Car2':car2,'Car3':car3}"
   ]
  },
  {
   "cell_type": "code",
   "execution_count": 22,
   "id": "4dfbd68d-11d6-4b17-9044-5f4f4ac74da3",
   "metadata": {},
   "outputs": [
    {
     "name": "stdout",
     "output_type": "stream",
     "text": [
      "{'Car1': {'Mercedes': 1958}, 'Car2': {'Audi': 1974}, 'Car3': {'Ambassador': 1863}}\n"
     ]
    }
   ],
   "source": [
    "print(car_type)"
   ]
  },
  {
   "cell_type": "code",
   "execution_count": 24,
   "id": "4c32d11a-5e0e-416b-9640-464b9d5f31fc",
   "metadata": {},
   "outputs": [
    {
     "name": "stdout",
     "output_type": "stream",
     "text": [
      "{'Mercedes': 1958}\n"
     ]
    }
   ],
   "source": [
    "print(car_type['Car1'])"
   ]
  },
  {
   "cell_type": "code",
   "execution_count": 25,
   "id": "73c7ba50-0b9b-4045-91fc-79c57adebde3",
   "metadata": {},
   "outputs": [
    {
     "name": "stdout",
     "output_type": "stream",
     "text": [
      "1958\n"
     ]
    }
   ],
   "source": [
    "print(car_type['Car1']['Mercedes'])"
   ]
  },
  {
   "cell_type": "code",
   "execution_count": 26,
   "id": "d9156bab-c36e-4763-b81f-045c2d000e72",
   "metadata": {},
   "outputs": [],
   "source": [
    "sub={'java':92,'python':93,'c':63}"
   ]
  },
  {
   "cell_type": "code",
   "execution_count": 27,
   "id": "f5353a63-0178-4e6b-ab43-a1efdfa39029",
   "metadata": {},
   "outputs": [
    {
     "data": {
      "text/plain": [
       "{'java': 92, 'python': 93, 'c': 63, 'html': 83}"
      ]
     },
     "execution_count": 27,
     "metadata": {},
     "output_type": "execute_result"
    }
   ],
   "source": [
    "sub['html']=83\n",
    "sub"
   ]
  },
  {
   "cell_type": "code",
   "execution_count": 28,
   "id": "e58e80f6-693d-49a1-ad5c-0bd3ba9f04be",
   "metadata": {},
   "outputs": [
    {
     "data": {
      "text/plain": [
       "{'java': 90, 'python': 96, 'c': 63, 'html': 83}"
      ]
     },
     "execution_count": 28,
     "metadata": {},
     "output_type": "execute_result"
    }
   ],
   "source": [
    "sub.update({'java':90,'python':96})\n",
    "sub"
   ]
  },
  {
   "cell_type": "code",
   "execution_count": 29,
   "id": "bd32330a-301c-47ad-95b1-a992adf08691",
   "metadata": {},
   "outputs": [
    {
     "data": {
      "text/plain": [
       "{'java': 90, 'python': 96, 'c': 63, 'html': 84}"
      ]
     },
     "execution_count": 29,
     "metadata": {},
     "output_type": "execute_result"
    }
   ],
   "source": [
    "sub['html']=84\n",
    "sub"
   ]
  },
  {
   "cell_type": "code",
   "execution_count": 30,
   "id": "36636161-c33e-4489-af7f-1c17bae75f45",
   "metadata": {},
   "outputs": [
    {
     "data": {
      "text/plain": [
       "{'java': 90, 'python': 96, 'c': 63}"
      ]
     },
     "execution_count": 30,
     "metadata": {},
     "output_type": "execute_result"
    }
   ],
   "source": [
    "del sub['html']\n",
    "sub"
   ]
  },
  {
   "cell_type": "code",
   "execution_count": 31,
   "id": "b5e4a035-e3f3-4008-89a9-047e2bcd1617",
   "metadata": {},
   "outputs": [
    {
     "data": {
      "text/plain": [
       "{10: 'rama', 11: 'prabhas', 12: 'subham', 13: 'biswo'}"
      ]
     },
     "execution_count": 31,
     "metadata": {},
     "output_type": "execute_result"
    }
   ],
   "source": [
    "d"
   ]
  },
  {
   "cell_type": "code",
   "execution_count": 32,
   "id": "5f4fb1c8-6675-4279-8781-b19f6b7ad2f4",
   "metadata": {},
   "outputs": [],
   "source": [
    "del d[13]"
   ]
  },
  {
   "cell_type": "code",
   "execution_count": 33,
   "id": "2d0c01f2-7c1c-4730-959d-eae42e7799ac",
   "metadata": {},
   "outputs": [
    {
     "data": {
      "text/plain": [
       "{10: 'rama', 11: 'prabhas', 12: 'subham'}"
      ]
     },
     "execution_count": 33,
     "metadata": {},
     "output_type": "execute_result"
    }
   ],
   "source": [
    "d"
   ]
  },
  {
   "cell_type": "code",
   "execution_count": 34,
   "id": "a535e0c2-d805-4d67-853a-a4972fb95575",
   "metadata": {},
   "outputs": [
    {
     "data": {
      "text/plain": [
       "'prabhas'"
      ]
     },
     "execution_count": 34,
     "metadata": {},
     "output_type": "execute_result"
    }
   ],
   "source": [
    "d.pop(11)"
   ]
  },
  {
   "cell_type": "code",
   "execution_count": 35,
   "id": "31e579d6-7497-4746-88b6-d76e7ca9de2b",
   "metadata": {},
   "outputs": [
    {
     "data": {
      "text/plain": [
       "{10: 'rama', 12: 'subham'}"
      ]
     },
     "execution_count": 35,
     "metadata": {},
     "output_type": "execute_result"
    }
   ],
   "source": [
    "d"
   ]
  },
  {
   "cell_type": "code",
   "execution_count": 36,
   "id": "670747b5-f67f-4079-92b5-82400b488631",
   "metadata": {},
   "outputs": [],
   "source": [
    "mix_d={1:54,2:'rama','Name':['subham','biswo','binayak'],'key1':['people',9,2,5,26]}"
   ]
  },
  {
   "cell_type": "code",
   "execution_count": 37,
   "id": "12463312-b2de-4dc5-a97b-4b99d87ad847",
   "metadata": {},
   "outputs": [
    {
     "data": {
      "text/plain": [
       "4"
      ]
     },
     "execution_count": 37,
     "metadata": {},
     "output_type": "execute_result"
    }
   ],
   "source": [
    "len(mix_d)"
   ]
  },
  {
   "cell_type": "code",
   "execution_count": 38,
   "id": "61bf6184-ba46-48b4-9de2-8ffcf65020ce",
   "metadata": {},
   "outputs": [
    {
     "data": {
      "text/plain": [
       "['people', 9, 2, 5, 26]"
      ]
     },
     "execution_count": 38,
     "metadata": {},
     "output_type": "execute_result"
    }
   ],
   "source": [
    "mix_d['key1']"
   ]
  },
  {
   "cell_type": "code",
   "execution_count": 39,
   "id": "27861cee-88e8-4fce-8c42-3e19c9192224",
   "metadata": {},
   "outputs": [
    {
     "data": {
      "text/plain": [
       "['subham', 'biswo', 'binayak']"
      ]
     },
     "execution_count": 39,
     "metadata": {},
     "output_type": "execute_result"
    }
   ],
   "source": [
    "mix_d['Name']"
   ]
  },
  {
   "cell_type": "code",
   "execution_count": 40,
   "id": "4355a06f-326c-4e55-9655-47a324212c15",
   "metadata": {},
   "outputs": [
    {
     "data": {
      "text/plain": [
       "'subham'"
      ]
     },
     "execution_count": 40,
     "metadata": {},
     "output_type": "execute_result"
    }
   ],
   "source": [
    "mix_d['Name'][0]"
   ]
  },
  {
   "cell_type": "markdown",
   "id": "babb2e2b-fa51-4b60-815e-1fd2059baa5f",
   "metadata": {},
   "source": [
    "### 3:List Length"
   ]
  },
  {
   "cell_type": "code",
   "execution_count": 14,
   "id": "490435e6-d885-48a3-ab7f-7e459a95f7ad",
   "metadata": {},
   "outputs": [
    {
     "data": {
      "text/plain": [
       "[5, 3.5, (7+4j), True, 'rama', '4']"
      ]
     },
     "execution_count": 14,
     "metadata": {},
     "output_type": "execute_result"
    }
   ],
   "source": [
    "# List is a heteorogenious (different datatypes)\n",
    "l1=[5,3.5,7+4j,True,'rama','4']\n",
    "l1"
   ]
  },
  {
   "cell_type": "code",
   "execution_count": 15,
   "id": "a3f2e53d-f488-49dc-bb82-df0885c9f46b",
   "metadata": {},
   "outputs": [
    {
     "name": "stdout",
     "output_type": "stream",
     "text": [
      "[[2, 5], [4, 9], 5, 8, 3]\n"
     ]
    }
   ],
   "source": [
    "# Nested lists (Lists of lists)\n",
    "l2=[[2,5],[4,9],5,8,3]\n",
    "print(l2)"
   ]
  },
  {
   "cell_type": "code",
   "execution_count": 16,
   "id": "8f88f0d2-d651-476c-88de-175b9ca7eca3",
   "metadata": {},
   "outputs": [
    {
     "name": "stdout",
     "output_type": "stream",
     "text": [
      "8\n"
     ]
    }
   ],
   "source": [
    "# Find length of a lists\n",
    "l1=['rama','subrat','ansu','prabhas',[2,4,6,3,1],4,6,[8,4,2]]\n",
    "print(len(l1))"
   ]
  },
  {
   "cell_type": "markdown",
   "id": "122075df-118b-4fc4-ba9a-2b4e2cbb034a",
   "metadata": {},
   "source": [
    "### 4:List Indexing"
   ]
  },
  {
   "cell_type": "markdown",
   "id": "6de5afae-1d77-4c36-9228-7daf13df8eaa",
   "metadata": {},
   "source": [
    "###### Each item in the list has an assigned index value starting from 0.Accessing elements in a list is called indexing."
   ]
  },
  {
   "cell_type": "code",
   "execution_count": 19,
   "id": "cdfdb1e6-51ea-4630-b9c0-cb1d8e86f7d5",
   "metadata": {},
   "outputs": [
    {
     "data": {
      "text/plain": [
       "43.5"
      ]
     },
     "execution_count": 19,
     "metadata": {},
     "output_type": "execute_result"
    }
   ],
   "source": [
    "l1=[28,43.5,\"rama\"]\n",
    "l1[1]"
   ]
  },
  {
   "cell_type": "code",
   "execution_count": 21,
   "id": "d9d58e7d-9f56-40c4-a9cb-0cbcae94cab0",
   "metadata": {},
   "outputs": [
    {
     "name": "stdout",
     "output_type": "stream",
     "text": [
      "[28, 43.5, 'laxman']\n"
     ]
    }
   ],
   "source": [
    "l1[-1]=\"laxman\"\n",
    "print(l1)"
   ]
  },
  {
   "cell_type": "markdown",
   "id": "e0ea400c-4d24-4390-8014-76a9326fbbe4",
   "metadata": {},
   "source": [
    "### 5:List Slicing"
   ]
  },
  {
   "cell_type": "markdown",
   "id": "04bc0e23-da3d-4131-a867-4fc6e4c0f273",
   "metadata": {},
   "source": [
    "###### .Accessing parts of segments is called slicing."
   ]
  },
  {
   "cell_type": "markdown",
   "id": "1b5c68f3-0c69-46c9-be9d-b197dec58025",
   "metadata": {},
   "source": [
    "###### .The key point to remember is that the : end value represents the first value that is not in the selected slice."
   ]
  },
  {
   "cell_type": "code",
   "execution_count": 32,
   "id": "70d89846-d12f-4a8e-8a66-875be3ee67b0",
   "metadata": {},
   "outputs": [
    {
     "name": "stdout",
     "output_type": "stream",
     "text": [
      "[1, 11, 21, 31, 41, 51, 61, 71, 81, 91]\n",
      "[1, 11, 21, 31]\n",
      "[1, 11, 21]\n",
      "[1, 21, 41, 61, 81]\n",
      "[1, 11, 21, 31, 41, 51, 61, 71, 81, 91]\n",
      "[91, 81, 71, 61, 51, 41, 31, 21, 11, 1]\n"
     ]
    }
   ],
   "source": [
    "No=[1,11,21,31,41,51,61,71,81,91]\n",
    "\n",
    "#Print all numbers\n",
    "print(No[:])\n",
    "\n",
    "#Print from index 0 to index 3\n",
    "print(No[0:4])\n",
    "\n",
    "#Print upto index 2\n",
    "print(No[:3])\n",
    "\n",
    "#print alternate elements in a list\n",
    "print(No[::2])\n",
    "\n",
    "#print elements start from 0 through rest of the list\n",
    "print(No[0::])\n",
    "\n",
    "#Print elements in reverse order\n",
    "print(No[::-1])"
   ]
  },
  {
   "cell_type": "code",
   "execution_count": 37,
   "id": "c8c3e52a-c2a0-4db7-ab02-5fd530a71747",
   "metadata": {},
   "outputs": [
    {
     "data": {
      "text/plain": [
       "4"
      ]
     },
     "execution_count": 37,
     "metadata": {},
     "output_type": "execute_result"
    }
   ],
   "source": [
    "List=[2,3,8,[8,4,3,['rama',7,3]]]\n",
    "len(List)"
   ]
  },
  {
   "cell_type": "code",
   "execution_count": 39,
   "id": "f7eaf0cd-7483-45ac-8eaf-695ddfb6031b",
   "metadata": {},
   "outputs": [
    {
     "data": {
      "text/plain": [
       "'rama'"
      ]
     },
     "execution_count": 39,
     "metadata": {},
     "output_type": "execute_result"
    }
   ],
   "source": [
    "List[3][3][0]"
   ]
  },
  {
   "cell_type": "code",
   "execution_count": 41,
   "id": "124c1c9f-83ba-40af-98ef-fc12cbc5bbe7",
   "metadata": {},
   "outputs": [
    {
     "data": {
      "text/plain": [
       "'rama'"
      ]
     },
     "execution_count": 41,
     "metadata": {},
     "output_type": "execute_result"
    }
   ],
   "source": [
    "list=[1,2,[3,4],[5,[100,200,['rama'],23,11],1,7]]\n",
    "list[3][1][2][0]"
   ]
  },
  {
   "cell_type": "code",
   "execution_count": 50,
   "id": "60b2af90-635a-484b-86dd-821742c6a30b",
   "metadata": {},
   "outputs": [
    {
     "ename": "TypeError",
     "evalue": "'int' object is not subscriptable",
     "output_type": "error",
     "traceback": [
      "\u001b[1;31m---------------------------------------------------------------------------\u001b[0m",
      "\u001b[1;31mTypeError\u001b[0m                                 Traceback (most recent call last)",
      "Cell \u001b[1;32mIn[50], line 2\u001b[0m\n\u001b[0;32m      1\u001b[0m \u001b[38;5;66;03m#Replace 23 with 64\u001b[39;00m\n\u001b[1;32m----> 2\u001b[0m \u001b[38;5;28mlist\u001b[39m[\u001b[38;5;241m3\u001b[39m][\u001b[38;5;241m1\u001b[39m][\u001b[38;5;241m3\u001b[39m]\u001b[38;5;241m=\u001b[39m\u001b[38;5;241m64\u001b[39m\n\u001b[0;32m      3\u001b[0m \u001b[38;5;28mlist\u001b[39m\n",
      "\u001b[1;31mTypeError\u001b[0m: 'int' object is not subscriptable"
     ]
    }
   ],
   "source": [
    "#Replace 23 with 64\n",
    "list[3][1][3]=64\n",
    "list"
   ]
  },
  {
   "cell_type": "markdown",
   "id": "027d6b18-5efe-494f-842b-aef54e10cf85",
   "metadata": {},
   "source": [
    "### List Concatinaion"
   ]
  },
  {
   "cell_type": "code",
   "execution_count": 1,
   "id": "132c3757-206b-4531-ad65-f9c4e5120c20",
   "metadata": {},
   "outputs": [
    {
     "data": {
      "text/plain": [
       "['rama', 'a', 'd', 'h', 4, 3, 6, 2.5]"
      ]
     },
     "execution_count": 1,
     "metadata": {},
     "output_type": "execute_result"
    }
   ],
   "source": [
    "l1=['rama','a','d']\n",
    "l2=['h',4,3,6,2.5]\n",
    "l1+l2"
   ]
  },
  {
   "cell_type": "markdown",
   "id": "d423d3ff-ee44-451c-b75a-42816e1b9ae6",
   "metadata": {},
   "source": [
    "#### List method - List inbuilt functions"
   ]
  },
  {
   "cell_type": "markdown",
   "id": "2371717f-e840-409d-8a4c-a4d6dc29480b",
   "metadata": {},
   "source": [
    "#### Append\n",
    "###### .append is used to add elements in the list\n",
    "###### .append will add the item at the end"
   ]
  },
  {
   "cell_type": "code",
   "execution_count": 4,
   "id": "a930b6c5-75f6-47da-8b3e-502ced657717",
   "metadata": {},
   "outputs": [
    {
     "data": {
      "text/plain": [
       "['g', 'h', 'i', 'j', '2']"
      ]
     },
     "execution_count": 4,
     "metadata": {},
     "output_type": "execute_result"
    }
   ],
   "source": [
    "li1=['g','h','i','j']\n",
    "li1.append('2')\n",
    "li1"
   ]
  },
  {
   "cell_type": "code",
   "execution_count": 5,
   "id": "1cb4a157-2f98-4ac6-8019-1d4c93dbfe05",
   "metadata": {},
   "outputs": [
    {
     "data": {
      "text/plain": [
       "[3, 4, 2, 6, 4, 8, [6, 3]]"
      ]
     },
     "execution_count": 5,
     "metadata": {},
     "output_type": "execute_result"
    }
   ],
   "source": [
    "li2=[3,4,2,6,4,8]\n",
    "li2.append([6,3])\n",
    "li2"
   ]
  },
  {
   "cell_type": "markdown",
   "id": "ecfebfcb-e7c2-4af8-b7fb-55eef5233b9f",
   "metadata": {},
   "source": [
    "##### Extend"
   ]
  },
  {
   "cell_type": "code",
   "execution_count": 6,
   "id": "d0fc3535-d1ed-4eef-9cf5-226408f5e89c",
   "metadata": {},
   "outputs": [
    {
     "data": {
      "text/plain": [
       "[3, 4, 2, 6, 4, 8, 6, 3]"
      ]
     },
     "execution_count": 6,
     "metadata": {},
     "output_type": "execute_result"
    }
   ],
   "source": [
    "# same as \n",
    "li2=[3,4,2,6,4,8]\n",
    "li2.extend([6,3])\n",
    "li2"
   ]
  },
  {
   "cell_type": "markdown",
   "id": "88df8c03-609b-4c8e-90d9-4e414b41b0bc",
   "metadata": {},
   "source": [
    "#### Insert\n",
    "##### .insert in a specific order\n",
    "##### .list.insert(x,y)-willadd element y at location x"
   ]
  },
  {
   "cell_type": "code",
   "execution_count": 1,
   "id": "e518b182-c585-410c-8747-8400e7000c8d",
   "metadata": {},
   "outputs": [
    {
     "name": "stdout",
     "output_type": "stream",
     "text": [
      "['rama', 'prabhas', 'rintu', 'jaga']\n"
     ]
    }
   ],
   "source": [
    "li3=['rama','prabhas','jaga']\n",
    "li3.insert(2,'rintu')\n",
    "print(li3)"
   ]
  },
  {
   "cell_type": "markdown",
   "id": "468fbb90-8fab-494c-90fb-985f3460fb5e",
   "metadata": {},
   "source": [
    "#### Remove"
   ]
  },
  {
   "cell_type": "code",
   "execution_count": 2,
   "id": "53f5c235-c346-4315-9c2f-ac26d517b67f",
   "metadata": {},
   "outputs": [
    {
     "data": {
      "text/plain": [
       "[7, 19, 10, 24, 28, 3, 5, 8, 3, 2, 7, 32, 61]"
      ]
     },
     "execution_count": 2,
     "metadata": {},
     "output_type": "execute_result"
    }
   ],
   "source": [
    "#syntax: list.remove(x)\n",
    "marks=[28,7,19,10,24,28,3,5,8,3,2,7,32,61]\n",
    "marks.remove(28)\n",
    "marks"
   ]
  },
  {
   "cell_type": "code",
   "execution_count": 5,
   "id": "6d6c1fd5-de83-495f-9842-9c59317a720a",
   "metadata": {},
   "outputs": [
    {
     "name": "stdout",
     "output_type": "stream",
     "text": [
      "['rama', 'jaga', 'rintu', 'biswojit']\n"
     ]
    }
   ],
   "source": [
    "li4=['rama',[5,8,'prabhas'],'jaga','rintu','biswojit']\n",
    "li4.remove(li4[1])\n",
    "print(li4)"
   ]
  },
  {
   "cell_type": "markdown",
   "id": "9bdf9a5d-63c9-4a48-983b-671bc2208ab8",
   "metadata": {},
   "source": [
    "##### Clear"
   ]
  },
  {
   "cell_type": "code",
   "execution_count": 6,
   "id": "4a7f170e-17ac-447c-a32d-39d7dff725e1",
   "metadata": {},
   "outputs": [
    {
     "name": "stdout",
     "output_type": "stream",
     "text": [
      "[]\n"
     ]
    }
   ],
   "source": [
    "#clear-clear all elements in a list and returns empty list\n",
    "A=[3,5,8,2,9]\n",
    "A.clear()\n",
    "print(A)"
   ]
  },
  {
   "cell_type": "markdown",
   "id": "5afa48e3-48d7-4306-bad1-a5581435d5bc",
   "metadata": {},
   "source": [
    "### Tuples"
   ]
  },
  {
   "cell_type": "markdown",
   "id": "91dd5d80-3775-4d59-b3ce-1ffadad88ec2",
   "metadata": {},
   "source": [
    "###### 1.Tuple is similar tolist except that the objects in tuple are immutable which means we cannot change the elements of a tupleonce assigned.\n",
    "###### 2.When we do not change the data over time,tuple is a perferred data type.\n",
    "###### 3.Lterating over the elements of a tuple is a faster compared to lterating over a list. "
   ]
  },
  {
   "cell_type": "markdown",
   "id": "80c52c29-5234-4a68-8827-73d60e547cfb",
   "metadata": {},
   "source": [
    "### Tuple Creation"
   ]
  },
  {
   "cell_type": "code",
   "execution_count": 51,
   "id": "12a07651-5115-4aa8-acc7-8cdb8858c964",
   "metadata": {},
   "outputs": [
    {
     "data": {
      "text/plain": [
       "tuple"
      ]
     },
     "execution_count": 51,
     "metadata": {},
     "output_type": "execute_result"
    }
   ],
   "source": [
    "#Empty tuple\n",
    "t1=()\n",
    "type(t1)"
   ]
  },
  {
   "cell_type": "code",
   "execution_count": 56,
   "id": "384fd3cd-f133-4d52-8241-2d952f5851b2",
   "metadata": {},
   "outputs": [
    {
     "data": {
      "text/plain": [
       "tuple"
      ]
     },
     "execution_count": 56,
     "metadata": {},
     "output_type": "execute_result"
    }
   ],
   "source": [
    "t2=tuple()\n",
    "type(t2)"
   ]
  },
  {
   "cell_type": "code",
   "execution_count": 59,
   "id": "1bbe21be-b680-4552-8d5b-36d2fe298f8f",
   "metadata": {},
   "outputs": [
    {
     "data": {
      "text/plain": [
       "(36, 'rama', 363.37)"
      ]
     },
     "execution_count": 59,
     "metadata": {},
     "output_type": "execute_result"
    }
   ],
   "source": [
    "#Tuple of mixed data types\n",
    "t3=(36,'rama',363.37)\n",
    "t3"
   ]
  },
  {
   "cell_type": "code",
   "execution_count": 61,
   "id": "e6ca8b52-9640-47bf-8e04-bb283fa58cef",
   "metadata": {},
   "outputs": [
    {
     "data": {
      "text/plain": [
       "(163, 'rama', 35, (36, 37), (67, 23))"
      ]
     },
     "execution_count": 61,
     "metadata": {},
     "output_type": "execute_result"
    }
   ],
   "source": [
    "t4=(163,'rama',35,(36,37),(67,23))\n",
    "t4"
   ]
  },
  {
   "cell_type": "code",
   "execution_count": 16,
   "id": "d83eb89f-de6d-4a04-a6e3-0e770c1d392a",
   "metadata": {},
   "outputs": [
    {
     "name": "stdout",
     "output_type": "stream",
     "text": [
      "(64, 46, 64, 'rama', 35, [64, 73], [64, 43], {'siva', 'rama'}, (636, 63))\n"
     ]
    }
   ],
   "source": [
    "v =(64,46,64,'rama',35,[64,73],[64,43],{'rama','siva'},(636,63))\n",
    "len(v)\n",
    "print(v)"
   ]
  },
  {
   "cell_type": "code",
   "execution_count": 17,
   "id": "f0b9ab5f-badd-4397-a657-5075577db066",
   "metadata": {},
   "outputs": [
    {
     "data": {
      "text/plain": [
       "[636, 63]"
      ]
     },
     "execution_count": 17,
     "metadata": {},
     "output_type": "execute_result"
    }
   ],
   "source": [
    "tuple = list(v[8])\n",
    "tuple"
   ]
  },
  {
   "cell_type": "code",
   "execution_count": 18,
   "id": "07cf12eb-b14a-47d9-80c7-23c3bb2719cc",
   "metadata": {},
   "outputs": [],
   "source": [
    "v[6][0]=46"
   ]
  },
  {
   "cell_type": "code",
   "execution_count": 19,
   "id": "5613097c-c703-4a88-82c1-a1ddfa3004d4",
   "metadata": {},
   "outputs": [
    {
     "data": {
      "text/plain": [
       "(64, 46, 64, 'rama', 35, [64, 73], [46, 43], {'rama', 'siva'}, (636, 63))"
      ]
     },
     "execution_count": 19,
     "metadata": {},
     "output_type": "execute_result"
    }
   ],
   "source": [
    "v"
   ]
  },
  {
   "cell_type": "code",
   "execution_count": 20,
   "id": "781dcd08-fe65-437e-afb9-4406ba9f8f6a",
   "metadata": {},
   "outputs": [
    {
     "data": {
      "text/plain": [
       "9"
      ]
     },
     "execution_count": 20,
     "metadata": {},
     "output_type": "execute_result"
    }
   ],
   "source": [
    "len(v)"
   ]
  },
  {
   "cell_type": "code",
   "execution_count": 21,
   "id": "37557cd8-9660-493c-a28a-eeb0e79050de",
   "metadata": {},
   "outputs": [
    {
     "ename": "TypeError",
     "evalue": "'tuple' object does not support item assignment",
     "output_type": "error",
     "traceback": [
      "\u001b[1;31m---------------------------------------------------------------------------\u001b[0m",
      "\u001b[1;31mTypeError\u001b[0m                                 Traceback (most recent call last)",
      "Cell \u001b[1;32mIn[21], line 1\u001b[0m\n\u001b[1;32m----> 1\u001b[0m v[\u001b[38;5;241m3\u001b[39m]\u001b[38;5;241m=\u001b[39m\u001b[38;5;124m'\u001b[39m\u001b[38;5;124msubham\u001b[39m\u001b[38;5;124m'\u001b[39m\n\u001b[0;32m      2\u001b[0m v\n",
      "\u001b[1;31mTypeError\u001b[0m: 'tuple' object does not support item assignment"
     ]
    }
   ],
   "source": [
    "v[3]='subham'\n",
    "v"
   ]
  },
  {
   "cell_type": "code",
   "execution_count": 22,
   "id": "629ead3a-7066-4626-b8df-3626bd9a9dd8",
   "metadata": {},
   "outputs": [
    {
     "data": {
      "text/plain": [
       "(64, 46, 64, 'rama', 35, ['rama', 73], [46, 43], {'rama', 'siva'}, (636, 63))"
      ]
     },
     "execution_count": 22,
     "metadata": {},
     "output_type": "execute_result"
    }
   ],
   "source": [
    "v[5][0]='rama'\n",
    "v"
   ]
  },
  {
   "cell_type": "code",
   "execution_count": 23,
   "id": "4a292f43-12cc-40de-92c2-bbdb62706b32",
   "metadata": {},
   "outputs": [
    {
     "data": {
      "text/plain": [
       "(636, 63)"
      ]
     },
     "execution_count": 23,
     "metadata": {},
     "output_type": "execute_result"
    }
   ],
   "source": [
    "v[8]"
   ]
  },
  {
   "cell_type": "code",
   "execution_count": 24,
   "id": "30fcb32d-dc3a-4f43-8d8b-f7f0321a43fc",
   "metadata": {},
   "outputs": [
    {
     "data": {
      "text/plain": [
       "[636, 63]"
      ]
     },
     "execution_count": 24,
     "metadata": {},
     "output_type": "execute_result"
    }
   ],
   "source": [
    "b=list(v[8])\n",
    "b"
   ]
  },
  {
   "cell_type": "markdown",
   "id": "0f3b4be1-a402-418a-8c52-5cc975a27a11",
   "metadata": {},
   "source": [
    "### Tuple indexing"
   ]
  },
  {
   "cell_type": "code",
   "execution_count": 26,
   "id": "cbe69247-4018-4628-9b1a-34c0e8c14690",
   "metadata": {},
   "outputs": [
    {
     "data": {
      "text/plain": [
       "'rama'"
      ]
     },
     "execution_count": 26,
     "metadata": {},
     "output_type": "execute_result"
    }
   ],
   "source": [
    "v[3]# Retreive first element of the tuple"
   ]
  },
  {
   "cell_type": "code",
   "execution_count": 27,
   "id": "3bd4115a-ea2f-4238-adbb-718640cd29c4",
   "metadata": {},
   "outputs": [
    {
     "data": {
      "text/plain": [
       "73"
      ]
     },
     "execution_count": 27,
     "metadata": {},
     "output_type": "execute_result"
    }
   ],
   "source": [
    "v[5][1]"
   ]
  },
  {
   "cell_type": "code",
   "execution_count": 28,
   "id": "d7322d7b-2e7c-4508-8a2c-87d38b69ebcb",
   "metadata": {},
   "outputs": [
    {
     "data": {
      "text/plain": [
       "(636, 63)"
      ]
     },
     "execution_count": 28,
     "metadata": {},
     "output_type": "execute_result"
    }
   ],
   "source": [
    "v[-1]"
   ]
  },
  {
   "cell_type": "markdown",
   "id": "d7cdf148-a48f-48e4-aae0-1103b5ee0c0c",
   "metadata": {},
   "source": [
    "### Tuple Slicing"
   ]
  },
  {
   "cell_type": "code",
   "execution_count": 33,
   "id": "edbb059c-dbf1-417a-a74f-b4da586387f4",
   "metadata": {},
   "outputs": [
    {
     "name": "stdout",
     "output_type": "stream",
     "text": [
      "('ten', 'twenty', 'thirty', 'fourty', 'fifty', 'sixty', 'seventy')\n"
     ]
    }
   ],
   "source": [
    "T=('ten','twenty','thirty','fourty','fifty','sixty','seventy')\n",
    "print(T)"
   ]
  },
  {
   "cell_type": "code",
   "execution_count": 34,
   "id": "7697e250-eac3-4546-827a-b6e3cecf342a",
   "metadata": {},
   "outputs": [
    {
     "data": {
      "text/plain": [
       "('ten', 'twenty', 'thirty')"
      ]
     },
     "execution_count": 34,
     "metadata": {},
     "output_type": "execute_result"
    }
   ],
   "source": [
    "T[0:3]"
   ]
  },
  {
   "cell_type": "code",
   "execution_count": 36,
   "id": "46f41961-016a-4573-8397-06891e94dca4",
   "metadata": {},
   "outputs": [
    {
     "data": {
      "text/plain": [
       "('twenty', 'thirty', 'fourty', 'fifty')"
      ]
     },
     "execution_count": 36,
     "metadata": {},
     "output_type": "execute_result"
    }
   ],
   "source": [
    "T[1:5]"
   ]
  },
  {
   "cell_type": "code",
   "execution_count": 39,
   "id": "4b628f49-534c-4522-b367-cd4f6fe97e98",
   "metadata": {},
   "outputs": [
    {
     "data": {
      "text/plain": [
       "('ten', 'twenty', 'thirty', 'fourty')"
      ]
     },
     "execution_count": 39,
     "metadata": {},
     "output_type": "execute_result"
    }
   ],
   "source": [
    "T[:4]"
   ]
  },
  {
   "cell_type": "code",
   "execution_count": 40,
   "id": "57f9ac95-0ce1-40f5-9eb0-74e2ba87b4e8",
   "metadata": {},
   "outputs": [
    {
     "data": {
      "text/plain": [
       "('fourty', 'fifty', 'sixty', 'seventy')"
      ]
     },
     "execution_count": 40,
     "metadata": {},
     "output_type": "execute_result"
    }
   ],
   "source": [
    "T[-4:]"
   ]
  },
  {
   "cell_type": "code",
   "execution_count": 41,
   "id": "c907c30b-a4b5-42e9-a159-c37d30805240",
   "metadata": {},
   "outputs": [
    {
     "data": {
      "text/plain": [
       "('fourty', 'twenty')"
      ]
     },
     "execution_count": 41,
     "metadata": {},
     "output_type": "execute_result"
    }
   ],
   "source": [
    "T[-4::-2]"
   ]
  },
  {
   "cell_type": "code",
   "execution_count": 42,
   "id": "f087f416-ba19-4863-9579-2e506b3be005",
   "metadata": {},
   "outputs": [
    {
     "data": {
      "text/plain": [
       "('ten', 'twenty', 'thirty', 'fourty', 'fifty')"
      ]
     },
     "execution_count": 42,
     "metadata": {},
     "output_type": "execute_result"
    }
   ],
   "source": [
    "T[:5]"
   ]
  },
  {
   "cell_type": "code",
   "execution_count": 43,
   "id": "7b37202e-518c-4766-a5d8-d57473a30ffe",
   "metadata": {},
   "outputs": [
    {
     "data": {
      "text/plain": [
       "('thirty', 'fourty', 'fifty', 'sixty', 'seventy')"
      ]
     },
     "execution_count": 43,
     "metadata": {},
     "output_type": "execute_result"
    }
   ],
   "source": [
    "T[-5:]"
   ]
  },
  {
   "cell_type": "markdown",
   "id": "5ce217f0-a1a5-4050-acab-55cba3afecde",
   "metadata": {},
   "source": [
    "#### Remove & Change item"
   ]
  },
  {
   "cell_type": "code",
   "execution_count": 44,
   "id": "7019c135-ae46-41c7-920f-c4e111d2f799",
   "metadata": {},
   "outputs": [
    {
     "data": {
      "text/plain": [
       "('ten', 'twenty', 'thirty', 'fourty', 'fifty', 'sixty', 'seventy')"
      ]
     },
     "execution_count": 44,
     "metadata": {},
     "output_type": "execute_result"
    }
   ],
   "source": [
    "T"
   ]
  },
  {
   "cell_type": "code",
   "execution_count": 45,
   "id": "9f1c7578-1285-4244-afd2-da7851808b1e",
   "metadata": {},
   "outputs": [
    {
     "ename": "TypeError",
     "evalue": "'tuple' object doesn't support item deletion",
     "output_type": "error",
     "traceback": [
      "\u001b[1;31m---------------------------------------------------------------------------\u001b[0m",
      "\u001b[1;31mTypeError\u001b[0m                                 Traceback (most recent call last)",
      "Cell \u001b[1;32mIn[45], line 1\u001b[0m\n\u001b[1;32m----> 1\u001b[0m \u001b[38;5;28;01mdel\u001b[39;00m T[\u001b[38;5;241m1\u001b[39m]\n",
      "\u001b[1;31mTypeError\u001b[0m: 'tuple' object doesn't support item deletion"
     ]
    }
   ],
   "source": [
    "del T[1]"
   ]
  },
  {
   "cell_type": "code",
   "execution_count": 46,
   "id": "bcb6a9ea-6eac-49cb-9f9b-ebf5a6f2d212",
   "metadata": {},
   "outputs": [
    {
     "ename": "TypeError",
     "evalue": "'tuple' object does not support item assignment",
     "output_type": "error",
     "traceback": [
      "\u001b[1;31m---------------------------------------------------------------------------\u001b[0m",
      "\u001b[1;31mTypeError\u001b[0m                                 Traceback (most recent call last)",
      "Cell \u001b[1;32mIn[46], line 1\u001b[0m\n\u001b[1;32m----> 1\u001b[0m T[\u001b[38;5;241m1\u001b[39m]\u001b[38;5;241m=\u001b[39m\u001b[38;5;241m5\u001b[39m\n",
      "\u001b[1;31mTypeError\u001b[0m: 'tuple' object does not support item assignment"
     ]
    }
   ],
   "source": [
    "T[1]=5"
   ]
  },
  {
   "cell_type": "code",
   "execution_count": 51,
   "id": "27568770-5efc-424f-9cd4-873234531995",
   "metadata": {},
   "outputs": [
    {
     "ename": "NameError",
     "evalue": "name 'T' is not defined",
     "output_type": "error",
     "traceback": [
      "\u001b[1;31m---------------------------------------------------------------------------\u001b[0m",
      "\u001b[1;31mNameError\u001b[0m                                 Traceback (most recent call last)",
      "Cell \u001b[1;32mIn[51], line 1\u001b[0m\n\u001b[1;32m----> 1\u001b[0m \u001b[38;5;28;01mdel\u001b[39;00m T\n",
      "\u001b[1;31mNameError\u001b[0m: name 'T' is not defined"
     ]
    }
   ],
   "source": [
    "del T # Deleting entire tuple object is possible"
   ]
  },
  {
   "cell_type": "markdown",
   "id": "72e63ada-28f9-4923-aee6-aee7ea635ede",
   "metadata": {},
   "source": [
    "#### Tuple methods"
   ]
  },
  {
   "cell_type": "code",
   "execution_count": 2,
   "id": "10d7608c-d723-4df5-84f5-744c5eae6398",
   "metadata": {},
   "outputs": [
    {
     "data": {
      "text/plain": [
       "('thirty',\n",
       " 'ten',\n",
       " 'thirty',\n",
       " 'twenty',\n",
       " 'thirty',\n",
       " 'fourty',\n",
       " 'thirty',\n",
       " 'fifty',\n",
       " 'sixty',\n",
       " 'seventy',\n",
       " 'thirty')"
      ]
     },
     "execution_count": 2,
     "metadata": {},
     "output_type": "execute_result"
    }
   ],
   "source": [
    "t1=('thirty','ten','thirty','twenty','thirty','fourty','thirty','fifty','sixty','seventy','thirty')\n",
    "t1"
   ]
  },
  {
   "cell_type": "markdown",
   "id": "472e2ed1-f376-409e-9f1c-12491dd5842b",
   "metadata": {},
   "source": [
    "### Tuple Membership"
   ]
  },
  {
   "cell_type": "code",
   "execution_count": 10,
   "id": "1a5a74e2-d4cb-49d0-bf97-52c7f061d1cb",
   "metadata": {},
   "outputs": [],
   "source": [
    "t2=('ten','twenty','thirty','fourty','fifty','sixty','seventy')"
   ]
  },
  {
   "cell_type": "code",
   "execution_count": 11,
   "id": "f424ef86-0bd4-4221-a228-e962a4f27799",
   "metadata": {},
   "outputs": [
    {
     "data": {
      "text/plain": [
       "True"
      ]
     },
     "execution_count": 11,
     "metadata": {},
     "output_type": "execute_result"
    }
   ],
   "source": [
    "'fourty' in t2"
   ]
  },
  {
   "cell_type": "code",
   "execution_count": 13,
   "id": "10a9552c-b419-4b87-bd94-6d4e9eb5a1e4",
   "metadata": {},
   "outputs": [
    {
     "data": {
      "text/plain": [
       "False"
      ]
     },
     "execution_count": 13,
     "metadata": {},
     "output_type": "execute_result"
    }
   ],
   "source": [
    "'five' in t2"
   ]
  },
  {
   "cell_type": "markdown",
   "id": "87e4bd65-48d9-46ef-876b-6d7b2894c3e8",
   "metadata": {},
   "source": [
    "#### Count"
   ]
  },
  {
   "cell_type": "code",
   "execution_count": 3,
   "id": "1659dc18-0d9a-4449-a285-9b4b55bb9e29",
   "metadata": {},
   "outputs": [
    {
     "data": {
      "text/plain": [
       "5"
      ]
     },
     "execution_count": 3,
     "metadata": {},
     "output_type": "execute_result"
    }
   ],
   "source": [
    " t1.count('thirty')"
   ]
  },
  {
   "cell_type": "code",
   "execution_count": 7,
   "id": "b0d8d1af-cc83-4130-a940-12f8866470d2",
   "metadata": {},
   "outputs": [
    {
     "data": {
      "text/plain": [
       "1"
      ]
     },
     "execution_count": 7,
     "metadata": {},
     "output_type": "execute_result"
    }
   ],
   "source": [
    "t1.count('twenty')"
   ]
  },
  {
   "cell_type": "markdown",
   "id": "c71f73ca-97d6-4b99-bec2-082d24ed2938",
   "metadata": {},
   "source": [
    "### Index Position"
   ]
  },
  {
   "cell_type": "code",
   "execution_count": 5,
   "id": "8d064ea2-6cac-4dc4-8e7f-13542736cce5",
   "metadata": {},
   "outputs": [
    {
     "data": {
      "text/plain": [
       "0"
      ]
     },
     "execution_count": 5,
     "metadata": {},
     "output_type": "execute_result"
    }
   ],
   "source": [
    "t1.index('thirty')"
   ]
  },
  {
   "cell_type": "code",
   "execution_count": 8,
   "id": "909f44dd-ec39-455f-b960-6078acb639cf",
   "metadata": {},
   "outputs": [
    {
     "data": {
      "text/plain": [
       "3"
      ]
     },
     "execution_count": 8,
     "metadata": {},
     "output_type": "execute_result"
    }
   ],
   "source": [
    "t1.index('twenty')"
   ]
  },
  {
   "cell_type": "code",
   "execution_count": 9,
   "id": "6b6af117-5ec8-4b9f-aab7-cd725bb6a9cc",
   "metadata": {},
   "outputs": [
    {
     "ename": "NameError",
     "evalue": "name 'ti' is not defined",
     "output_type": "error",
     "traceback": [
      "\u001b[1;31m---------------------------------------------------------------------------\u001b[0m",
      "\u001b[1;31mNameError\u001b[0m                                 Traceback (most recent call last)",
      "Cell \u001b[1;32mIn[9], line 1\u001b[0m\n\u001b[1;32m----> 1\u001b[0m ti\u001b[38;5;241m.\u001b[39mindex(\u001b[38;5;124m'\u001b[39m\u001b[38;5;124mtwo\u001b[39m\u001b[38;5;124m'\u001b[39m)\n",
      "\u001b[1;31mNameError\u001b[0m: name 'ti' is not defined"
     ]
    }
   ],
   "source": [
    "ti.index('two')"
   ]
  },
  {
   "cell_type": "markdown",
   "id": "6efcffda-5c4a-42e6-a422-5a256550ac15",
   "metadata": {},
   "source": [
    "### Range()"
   ]
  },
  {
   "cell_type": "code",
   "execution_count": 2,
   "id": "35de342f-8c29-4b7c-bde5-26d5c001facd",
   "metadata": {},
   "outputs": [
    {
     "data": {
      "text/plain": [
       "range(0, 24)"
      ]
     },
     "execution_count": 2,
     "metadata": {},
     "output_type": "execute_result"
    }
   ],
   "source": [
    "range(14)"
   ]
  },
  {
   "cell_type": "code",
   "execution_count": 5,
   "id": "f013ba15-f93a-4d05-8309-aae04063722f",
   "metadata": {},
   "outputs": [
    {
     "data": {
      "text/plain": [
       "[0, 1, 2, 3, 4, 5, 6, 7, 8, 9, 10, 11, 12, 13]"
      ]
     },
     "execution_count": 5,
     "metadata": {},
     "output_type": "execute_result"
    }
   ],
   "source": [
    "list(range(14))"
   ]
  },
  {
   "cell_type": "markdown",
   "id": "289ab64a-dd00-4941-aa39-51aabf03a8d6",
   "metadata": {},
   "source": [
    "list(range(1,12))"
   ]
  },
  {
   "cell_type": "code",
   "execution_count": 7,
   "id": "bf0d83ae-52a3-4cd4-b72c-38f520cf6cee",
   "metadata": {},
   "outputs": [
    {
     "name": "stdout",
     "output_type": "stream",
     "text": [
      "[1, 5, 9, 13, 17]\n"
     ]
    }
   ],
   "source": [
    "print(list(range(1,20,4)))"
   ]
  },
  {
   "cell_type": "code",
   "execution_count": 8,
   "id": "0d8a4762-87f0-4b08-9bab-d010735e4f4a",
   "metadata": {},
   "outputs": [
    {
     "name": "stdout",
     "output_type": "stream",
     "text": [
      "[45, 40, 35, 30, 25, 20, 15, 10, 5]\n"
     ]
    }
   ],
   "source": [
    "print(list(range(45,1,-5)))"
   ]
  },
  {
   "cell_type": "code",
   "execution_count": 66,
   "id": "e977611e-ac17-44d1-a29e-f577ba8783bd",
   "metadata": {},
   "outputs": [
    {
     "name": "stdin",
     "output_type": "stream",
     "text": [
      "Enter a number: 12\n"
     ]
    },
    {
     "data": {
      "text/plain": [
       "True"
      ]
     },
     "execution_count": 66,
     "metadata": {},
     "output_type": "execute_result"
    }
   ],
   "source": [
    "x=int(input(\"Enter a number:\"))\n",
    "x % 2 == 0\n"
   ]
  },
  {
   "cell_type": "markdown",
   "id": "3b2fa11d-d713-40e7-808a-190ab9239187",
   "metadata": {},
   "source": [
    "## Sets\n",
    "###### .A set is an unordered collection of items.\n",
    "###### .Every element is unique(no duplicates).\n",
    "###### .The set itself is mutable --> We can add or remove items from it.\n",
    "###### .In set,multiple datatype items are not applicable (ex:{1,2(1,2)}--is not applicable\n",
    "###### .set is defined by values separated by comma inside braces{}.\n",
    "\n",
    "###### -> Set can be used to perform mathematical set operation like union,intersection,symmetric difference etc."
   ]
  },
  {
   "cell_type": "code",
   "execution_count": 41,
   "id": "4a0e1f9d-ca11-446c-8ea8-374fcfc35499",
   "metadata": {},
   "outputs": [
    {
     "name": "stdout",
     "output_type": "stream",
     "text": [
      "set()\n",
      "<class 'set'>\n"
     ]
    }
   ],
   "source": [
    "s=set()\n",
    "print(s)\n",
    "print(type(s))"
   ]
  },
  {
   "cell_type": "code",
   "execution_count": 42,
   "id": "96659109-20d6-46b8-ac4d-02c7ce97e713",
   "metadata": {},
   "outputs": [
    {
     "name": "stdout",
     "output_type": "stream",
     "text": [
      "{18, 20, 37, 38, 53, 12, 'r'}\n"
     ]
    }
   ],
   "source": [
    "a={18,37,38,53,12,20,'r'}\n",
    "print(a)"
   ]
  },
  {
   "cell_type": "code",
   "execution_count": 43,
   "id": "0a221bee-28e8-4773-abf3-69f27ba0e009",
   "metadata": {},
   "outputs": [
    {
     "name": "stdout",
     "output_type": "stream",
     "text": [
      "{64, 18, 20, 37, 46, 47}\n"
     ]
    }
   ],
   "source": [
    "a1={20,18,46,64,47,37}\n",
    "print(a1)"
   ]
  },
  {
   "cell_type": "code",
   "execution_count": 44,
   "id": "8b20ceab-5338-4a42-8e6f-39d886567656",
   "metadata": {},
   "outputs": [
    {
     "ename": "TypeError",
     "evalue": "'set' object is not subscriptable",
     "output_type": "error",
     "traceback": [
      "\u001b[1;31m---------------------------------------------------------------------------\u001b[0m",
      "\u001b[1;31mTypeError\u001b[0m                                 Traceback (most recent call last)",
      "Cell \u001b[1;32mIn[44], line 1\u001b[0m\n\u001b[1;32m----> 1\u001b[0m \u001b[38;5;28mprint\u001b[39m(a[\u001b[38;5;241m1\u001b[39m])\n",
      "\u001b[1;31mTypeError\u001b[0m: 'set' object is not subscriptable"
     ]
    }
   ],
   "source": [
    "print(a[1])"
   ]
  },
  {
   "cell_type": "code",
   "execution_count": 45,
   "id": "a25fbd08-152c-4721-b21e-8b4133c41ffc",
   "metadata": {},
   "outputs": [
    {
     "name": "stdout",
     "output_type": "stream",
     "text": [
      "[1, 2, 3, 4, 5, 6]\n"
     ]
    }
   ],
   "source": [
    "a1=list(set([2,4,6,2,1,6,5,3,1,2,3]))\n",
    "print(a1)"
   ]
  },
  {
   "cell_type": "code",
   "execution_count": 46,
   "id": "daa5366a-bf8d-4607-af34-0a7fc72c6677",
   "metadata": {},
   "outputs": [
    {
     "data": {
      "text/plain": [
       "{'A', 'B', 'c'}"
      ]
     },
     "execution_count": 46,
     "metadata": {},
     "output_type": "execute_result"
    }
   ],
   "source": [
    "a2=set(('A','B','c'))\n",
    "a2"
   ]
  },
  {
   "cell_type": "code",
   "execution_count": 47,
   "id": "f0d02d59-77bc-47b5-8247-8c7cd172c965",
   "metadata": {},
   "outputs": [
    {
     "data": {
      "text/plain": [
       "{4, 9, 14, 19, 24, 29, 34}"
      ]
     },
     "execution_count": 47,
     "metadata": {},
     "output_type": "execute_result"
    }
   ],
   "source": [
    "i=set(range(4,36,5))\n",
    "i"
   ]
  },
  {
   "cell_type": "markdown",
   "id": "e9ebd762-a254-4458-8e72-9fd27cb7d13c",
   "metadata": {},
   "source": [
    "### Set methods"
   ]
  },
  {
   "cell_type": "code",
   "execution_count": 48,
   "id": "b6d36e11-e2e9-4c28-92e5-8b4e22849da2",
   "metadata": {},
   "outputs": [
    {
     "data": {
      "text/plain": [
       "set()"
      ]
     },
     "execution_count": 48,
     "metadata": {},
     "output_type": "execute_result"
    }
   ],
   "source": [
    "s=set()\n",
    "s"
   ]
  },
  {
   "cell_type": "markdown",
   "id": "e80a8b32-b57f-444e-890f-e24717e96e54",
   "metadata": {},
   "source": [
    "### add() --> we can add single element"
   ]
  },
  {
   "cell_type": "code",
   "execution_count": 49,
   "id": "33ddd649-4de1-4168-b70f-1f64f0cc072a",
   "metadata": {},
   "outputs": [
    {
     "data": {
      "text/plain": [
       "{0, 3, 5, 'A'}"
      ]
     },
     "execution_count": 49,
     "metadata": {},
     "output_type": "execute_result"
    }
   ],
   "source": [
    "s.add(5)\n",
    "s.add(3)\n",
    "s.add(0)\n",
    "s.add('A')\n",
    "s"
   ]
  },
  {
   "cell_type": "markdown",
   "id": "6560357c-c555-4a7b-a073-86afe2292656",
   "metadata": {},
   "source": [
    "### update() --> add multiple elements"
   ]
  },
  {
   "cell_type": "code",
   "execution_count": 53,
   "id": "da0a4bcf-de02-4fed-8382-6883833ea44b",
   "metadata": {},
   "outputs": [
    {
     "name": "stdout",
     "output_type": "stream",
     "text": [
      "{1, 2, 4}\n"
     ]
    }
   ],
   "source": [
    "s1=set()\n",
    "s1.update([4,2,1])\n",
    "print(s1)"
   ]
  },
  {
   "cell_type": "code",
   "execution_count": 54,
   "id": "bf2ba43e-fa25-4bdf-843e-c124b84a7390",
   "metadata": {},
   "outputs": [
    {
     "name": "stdout",
     "output_type": "stream",
     "text": [
      "{1, 2, 4, 5, 7, 8, 9, 10}\n"
     ]
    }
   ],
   "source": [
    "s1.update([10,8],{5,7,9})\n",
    "print(s1)"
   ]
  },
  {
   "cell_type": "markdown",
   "id": "7009bbdd-c6b1-412e-89b8-6eea668159b3",
   "metadata": {},
   "source": [
    "### Copy() -> copy complete set"
   ]
  },
  {
   "cell_type": "code",
   "execution_count": 55,
   "id": "95e05ff2-fb84-4f04-b16b-2c1d3a33ca9a",
   "metadata": {},
   "outputs": [
    {
     "data": {
      "text/plain": [
       "{0, 3, 5, 'A'}"
      ]
     },
     "execution_count": 55,
     "metadata": {},
     "output_type": "execute_result"
    }
   ],
   "source": [
    "e=s.copy()\n",
    "e"
   ]
  },
  {
   "cell_type": "code",
   "execution_count": 56,
   "id": "1f552336-2a0c-4cb4-be06-8586ef63d4cf",
   "metadata": {},
   "outputs": [
    {
     "data": {
      "text/plain": [
       "{0, 3, 5, 9, 'A'}"
      ]
     },
     "execution_count": 56,
     "metadata": {},
     "output_type": "execute_result"
    }
   ],
   "source": [
    "e.add(9)\n",
    "e"
   ]
  },
  {
   "cell_type": "code",
   "execution_count": 57,
   "id": "f7f66bdd-5c87-4345-9f20-874f6ef2daf7",
   "metadata": {},
   "outputs": [
    {
     "data": {
      "text/plain": [
       "{0, 3, 5, 9, 'A'}"
      ]
     },
     "execution_count": 57,
     "metadata": {},
     "output_type": "execute_result"
    }
   ],
   "source": [
    "e"
   ]
  },
  {
   "cell_type": "markdown",
   "id": "44ece37d-e351-47de-881e-2a810e6ed454",
   "metadata": {},
   "source": [
    "### Delete elements from a set\n",
    "##### -- A particular item can be removed fromset using methods,\n",
    "##### .discard()\n",
    "##### .remove()."
   ]
  },
  {
   "cell_type": "code",
   "execution_count": 63,
   "id": "ce4260c3-39ac-4961-9ee3-3f4bc48b3228",
   "metadata": {},
   "outputs": [
    {
     "name": "stdout",
     "output_type": "stream",
     "text": [
      "{50, 20, 40, 10, 30}\n",
      "{50, 20, 40, 10}\n"
     ]
    }
   ],
   "source": [
    "B={10,20,30,40,50}\n",
    "print(B)\n",
    "\n",
    "B.discard(30)\n",
    "print(B)"
   ]
  },
  {
   "cell_type": "code",
   "execution_count": 64,
   "id": "212a763b-bab1-431e-bf22-defbb0b770eb",
   "metadata": {},
   "outputs": [
    {
     "name": "stdout",
     "output_type": "stream",
     "text": [
      "{50, 20, 40, 10}\n"
     ]
    }
   ],
   "source": [
    "B.discard(44)\n",
    "print(B)"
   ]
  },
  {
   "cell_type": "code",
   "execution_count": 65,
   "id": "e236ac71-d09c-4e68-abd9-ca32eedb0c8c",
   "metadata": {},
   "outputs": [
    {
     "name": "stdout",
     "output_type": "stream",
     "text": [
      "{50, 20, 40}\n"
     ]
    }
   ],
   "source": [
    "B.remove(10)\n",
    "print(B)"
   ]
  },
  {
   "cell_type": "code",
   "execution_count": 66,
   "id": "44d38650-50d1-4739-8f0e-f35ee6b925e5",
   "metadata": {},
   "outputs": [
    {
     "ename": "KeyError",
     "evalue": "44",
     "output_type": "error",
     "traceback": [
      "\u001b[1;31m---------------------------------------------------------------------------\u001b[0m",
      "\u001b[1;31mKeyError\u001b[0m                                  Traceback (most recent call last)",
      "Cell \u001b[1;32mIn[66], line 1\u001b[0m\n\u001b[1;32m----> 1\u001b[0m B\u001b[38;5;241m.\u001b[39mremove(\u001b[38;5;241m44\u001b[39m)\n",
      "\u001b[1;31mKeyError\u001b[0m: 44"
     ]
    }
   ],
   "source": [
    "B.remove(44)"
   ]
  },
  {
   "cell_type": "code",
   "execution_count": 70,
   "id": "62bbc90f-56a5-47e9-bce2-ae7a2214185a",
   "metadata": {},
   "outputs": [
    {
     "name": "stdout",
     "output_type": "stream",
     "text": [
      "{1, 2, 4, 5, 7, 'biswo', 'rama'}\n",
      "<class 'set'>\n"
     ]
    }
   ],
   "source": [
    "B={4,7,0,5,2,1,'rama','biswo'}\n",
    "B.pop()\n",
    "print(B)\n",
    "print(type(B))"
   ]
  },
  {
   "cell_type": "code",
   "execution_count": 68,
   "id": "84500d8e-6267-4f83-8ebe-28d199e7d9a4",
   "metadata": {},
   "outputs": [
    {
     "name": "stdout",
     "output_type": "stream",
     "text": [
      "set()\n"
     ]
    }
   ],
   "source": [
    "B.clear()\n",
    "print(B)"
   ]
  },
  {
   "cell_type": "code",
   "execution_count": 71,
   "id": "6a66d39a-73e2-4027-a75c-38eacaa4dcee",
   "metadata": {},
   "outputs": [],
   "source": [
    "B1={2,5,9,4,1,3}\n",
    "del B1"
   ]
  },
  {
   "cell_type": "code",
   "execution_count": 72,
   "id": "e561ec9d-b799-4645-8508-64118a936da3",
   "metadata": {},
   "outputs": [
    {
     "ename": "NameError",
     "evalue": "name 'B1' is not defined",
     "output_type": "error",
     "traceback": [
      "\u001b[1;31m---------------------------------------------------------------------------\u001b[0m",
      "\u001b[1;31mNameError\u001b[0m                                 Traceback (most recent call last)",
      "Cell \u001b[1;32mIn[72], line 1\u001b[0m\n\u001b[1;32m----> 1\u001b[0m \u001b[38;5;28mprint\u001b[39m(B1)\n",
      "\u001b[1;31mNameError\u001b[0m: name 'B1' is not defined"
     ]
    }
   ],
   "source": [
    "print(B1)"
   ]
  },
  {
   "cell_type": "markdown",
   "id": "59b179fb-a872-4f45-9157-97ce10937574",
   "metadata": {},
   "source": [
    "### Set Operation"
   ]
  },
  {
   "cell_type": "markdown",
   "id": "7976df58-1096-494b-b73a-b42ab655961e",
   "metadata": {},
   "source": [
    "##### .Union"
   ]
  },
  {
   "cell_type": "code",
   "execution_count": 73,
   "id": "1e3f6bf1-e537-42bf-9162-9c0310453b75",
   "metadata": {},
   "outputs": [],
   "source": [
    "set1={10,20,30,40}\n",
    "set2={30,40,50,60}"
   ]
  },
  {
   "cell_type": "code",
   "execution_count": 74,
   "id": "bdccf919-dd72-43f8-baf7-6199ab44fa3c",
   "metadata": {},
   "outputs": [
    {
     "name": "stdout",
     "output_type": "stream",
     "text": [
      "{40, 10, 50, 20, 60, 30}\n"
     ]
    }
   ],
   "source": [
    "print(set1 | set2)"
   ]
  },
  {
   "cell_type": "code",
   "execution_count": 75,
   "id": "999a708c-2374-4d41-b43a-8c4422dcb6bc",
   "metadata": {},
   "outputs": [
    {
     "name": "stdout",
     "output_type": "stream",
     "text": [
      "{40, 10, 50, 20, 60, 30}\n"
     ]
    }
   ],
   "source": [
    "print(set1.union(set2))"
   ]
  },
  {
   "cell_type": "code",
   "execution_count": 76,
   "id": "f241f502-2594-4833-b397-eef09604ee17",
   "metadata": {},
   "outputs": [
    {
     "data": {
      "text/plain": [
       "{10, 20, 30, 40}"
      ]
     },
     "execution_count": 76,
     "metadata": {},
     "output_type": "execute_result"
    }
   ],
   "source": [
    "set1"
   ]
  },
  {
   "cell_type": "markdown",
   "id": "fd226665-d742-46e0-bae7-6540d3b345fe",
   "metadata": {},
   "source": [
    "##### .intersection"
   ]
  },
  {
   "cell_type": "code",
   "execution_count": 77,
   "id": "8995f310-ef78-445a-a873-a24a17a1c6fd",
   "metadata": {},
   "outputs": [
    {
     "name": "stdout",
     "output_type": "stream",
     "text": [
      "{40, 30}\n"
     ]
    }
   ],
   "source": [
    "print(set1 & set2)"
   ]
  },
  {
   "cell_type": "code",
   "execution_count": 78,
   "id": "c59a4e57-174d-4eda-b67a-a0c8fbfa8178",
   "metadata": {},
   "outputs": [
    {
     "name": "stdout",
     "output_type": "stream",
     "text": [
      "{40, 30}\n"
     ]
    }
   ],
   "source": [
    "print(set1.intersection(set2))"
   ]
  },
  {
   "cell_type": "markdown",
   "id": "df7121d1-4361-4a37-b100-a0dc508cf71c",
   "metadata": {},
   "source": [
    "##### .difference"
   ]
  },
  {
   "cell_type": "code",
   "execution_count": 79,
   "id": "7483f18f-8384-471b-8a38-bf7fca7af00a",
   "metadata": {},
   "outputs": [
    {
     "name": "stdout",
     "output_type": "stream",
     "text": [
      "{10, 20}\n"
     ]
    }
   ],
   "source": [
    "print(set1 - set2)"
   ]
  },
  {
   "cell_type": "code",
   "execution_count": 81,
   "id": "8c3f6163-9ec1-4bce-a800-1958af0e1dca",
   "metadata": {},
   "outputs": [
    {
     "name": "stdout",
     "output_type": "stream",
     "text": [
      "{10, 20}\n"
     ]
    }
   ],
   "source": [
    "print(set1.difference(set2))"
   ]
  },
  {
   "cell_type": "code",
   "execution_count": 82,
   "id": "697cb5fa-7988-4ff4-9b3f-01fa10b03fd5",
   "metadata": {},
   "outputs": [
    {
     "name": "stdout",
     "output_type": "stream",
     "text": [
      "{50, 60}\n"
     ]
    }
   ],
   "source": [
    "print(set2 - set1)"
   ]
  },
  {
   "cell_type": "markdown",
   "id": "2cbe5395-a10b-470b-9758-3f226a461b66",
   "metadata": {},
   "source": [
    "##### .difference_update"
   ]
  },
  {
   "cell_type": "code",
   "execution_count": 83,
   "id": "28228f7a-4335-4483-987d-2d4c8816219b",
   "metadata": {},
   "outputs": [
    {
     "data": {
      "text/plain": [
       "{10, 20}"
      ]
     },
     "execution_count": 83,
     "metadata": {},
     "output_type": "execute_result"
    }
   ],
   "source": [
    "set1.difference_update(set2)\n",
    "set1"
   ]
  },
  {
   "cell_type": "code",
   "execution_count": 84,
   "id": "f3ae9955-63f7-4bac-9720-879efc458a3b",
   "metadata": {},
   "outputs": [
    {
     "data": {
      "text/plain": [
       "{30, 40, 50, 60}"
      ]
     },
     "execution_count": 84,
     "metadata": {},
     "output_type": "execute_result"
    }
   ],
   "source": [
    "set2.difference_update(set1)\n",
    "set2"
   ]
  },
  {
   "cell_type": "markdown",
   "id": "64a67530-71d6-4dd3-a80a-7f42ef187f10",
   "metadata": {},
   "source": [
    "##### .symmetric difference:set of elements in both set1 and set2(#exsept those that are common in both.)"
   ]
  },
  {
   "cell_type": "code",
   "execution_count": 85,
   "id": "41e387e4-282a-4871-aea7-4548e4feedbc",
   "metadata": {},
   "outputs": [],
   "source": [
    "set1={10,20,30,40}\n",
    "set2={30,40,50,60}"
   ]
  },
  {
   "cell_type": "code",
   "execution_count": 86,
   "id": "2c0eb514-be36-4191-9114-b09b8054d491",
   "metadata": {},
   "outputs": [
    {
     "name": "stdout",
     "output_type": "stream",
     "text": [
      "{10, 50, 20, 60}\n"
     ]
    }
   ],
   "source": [
    "print(set1 ^ set2)"
   ]
  },
  {
   "cell_type": "code",
   "execution_count": 87,
   "id": "0ab3e3c2-53e6-4ed5-812d-84f4168434ff",
   "metadata": {},
   "outputs": [
    {
     "name": "stdout",
     "output_type": "stream",
     "text": [
      "{10, 50, 20, 60}\n"
     ]
    }
   ],
   "source": [
    "print(set1.symmetric_difference(set2))"
   ]
  },
  {
   "cell_type": "markdown",
   "id": "66a71ee8-6fac-4c66-ad45-71e90a23293f",
   "metadata": {},
   "source": [
    "###### .symmetric_difference_update()"
   ]
  },
  {
   "cell_type": "code",
   "execution_count": 88,
   "id": "83dfc43e-71f9-4d8c-a4df-7c1807e1268e",
   "metadata": {},
   "outputs": [
    {
     "data": {
      "text/plain": [
       "{10, 20, 50, 60}"
      ]
     },
     "execution_count": 88,
     "metadata": {},
     "output_type": "execute_result"
    }
   ],
   "source": [
    "set2.symmetric_difference_update(set1)\n",
    "set2"
   ]
  },
  {
   "cell_type": "markdown",
   "id": "16275664-c50a-442c-a5b3-279fe58451f9",
   "metadata": {},
   "source": [
    "###### .issubset"
   ]
  },
  {
   "cell_type": "code",
   "execution_count": 89,
   "id": "20fab268-e0a6-47c7-8529-19505a436c01",
   "metadata": {},
   "outputs": [],
   "source": [
    "C={6,7,8}\n",
    "D={6,7,8,9}"
   ]
  },
  {
   "cell_type": "code",
   "execution_count": 91,
   "id": "44d8e3ae-007c-47b3-b7d0-f0acde10bc93",
   "metadata": {},
   "outputs": [
    {
     "data": {
      "text/plain": [
       "True"
      ]
     },
     "execution_count": 91,
     "metadata": {},
     "output_type": "execute_result"
    }
   ],
   "source": [
    "C.issubset(D)"
   ]
  },
  {
   "cell_type": "code",
   "execution_count": 92,
   "id": "313bb95d-f7e6-478d-ba88-d9e5c6cf73d7",
   "metadata": {},
   "outputs": [
    {
     "data": {
      "text/plain": [
       "False"
      ]
     },
     "execution_count": 92,
     "metadata": {},
     "output_type": "execute_result"
    }
   ],
   "source": [
    "D.issubset(C)"
   ]
  },
  {
   "cell_type": "markdown",
   "id": "fe2129db-db2c-413f-9991-48016f9f7049",
   "metadata": {},
   "source": [
    "###### .issuperset()"
   ]
  },
  {
   "cell_type": "code",
   "execution_count": 93,
   "id": "6c35f5e4-349e-4d4f-b2e9-f895b35820e3",
   "metadata": {},
   "outputs": [
    {
     "data": {
      "text/plain": [
       "True"
      ]
     },
     "execution_count": 93,
     "metadata": {},
     "output_type": "execute_result"
    }
   ],
   "source": [
    "D.issuperset(C)"
   ]
  },
  {
   "cell_type": "markdown",
   "id": "bd8a7b25-08a0-41e9-a030-09556f9e0c7f",
   "metadata": {},
   "source": [
    "###### .isdisjoint()"
   ]
  },
  {
   "cell_type": "code",
   "execution_count": 95,
   "id": "ae4ecfc3-5a51-48f4-a841-ac6cbb94e870",
   "metadata": {},
   "outputs": [
    {
     "data": {
      "text/plain": [
       "False"
      ]
     },
     "execution_count": 95,
     "metadata": {},
     "output_type": "execute_result"
    }
   ],
   "source": [
    "D.isdisjoint(C)"
   ]
  }
 ],
 "metadata": {
  "kernelspec": {
   "display_name": "Python 3 (ipykernel)",
   "language": "python",
   "name": "python3"
  },
  "language_info": {
   "codemirror_mode": {
    "name": "ipython",
    "version": 3
   },
   "file_extension": ".py",
   "mimetype": "text/x-python",
   "name": "python",
   "nbconvert_exporter": "python",
   "pygments_lexer": "ipython3",
   "version": "3.11.7"
  }
 },
 "nbformat": 4,
 "nbformat_minor": 5
}
